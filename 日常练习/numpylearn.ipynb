{
 "cells": [
  {
   "cell_type": "markdown",
   "metadata": {},
   "source": [
    "### 2025.3.29-3.30\n",
    "### 跟学 [Python深度学习：NumPy数组库](https://www.bilibili.com/video/BV1H84y1g7RE/?share_source=copy_web&vd_source=43c4eb4ed8da935694eaeb473fd0f6cb)"
   ]
  },
  {
   "cell_type": "code",
   "execution_count": 2,
   "metadata": {},
   "outputs": [],
   "source": [
    "import numpy as np"
   ]
  },
  {
   "cell_type": "markdown",
   "metadata": {},
   "source": [
    "#### 一、数组的定义"
   ]
  },
  {
   "cell_type": "markdown",
   "metadata": {},
   "source": [
    "##### 1. 数组元素的类型是整数型或浮点数型的，在初始化时被定义"
   ]
  },
  {
   "cell_type": "code",
   "execution_count": null,
   "metadata": {},
   "outputs": [
    {
     "name": "stdout",
     "output_type": "stream",
     "text": [
      "[1 2 3 4 5]\n",
      "[1 2 3 4 7]\n",
      "[1. 2. 3. 4. 7.]\n",
      "[1. 2. 3. 4. 7.]\n",
      "[1. 2. 3. 4. 7.]\n"
     ]
    }
   ],
   "source": [
    "arr = np.array([1,2,3,4,5])\n",
    "print(arr)\n",
    "arr[4] = 7.0\n",
    "print(arr)\n",
    "arr = arr.astype(float) # 类型转换\n",
    "print(arr)\n",
    "arr = arr.astype(int)\n",
    "print(arr * 1.0) # 数组运算时，若整体乘于浮点数，则会自动转换为浮点数\n",
    "print(arr / 1) # 除法运算时，若整体除以某个即使不为浮点数的数，都会自动转换为浮点数\n",
    "# 总结：在运算时，NumPy会自动转换数据类型以避免数据丢失，趋向于整体转换。(全体共同改变定理)"
   ]
  },
  {
   "cell_type": "markdown",
   "metadata": {},
   "source": [
    "##### 2. 常见的数组类型有一维数组(向量)和多维数组(矩阵)"
   ]
  },
  {
   "cell_type": "code",
   "execution_count": 8,
   "metadata": {},
   "outputs": [
    {
     "name": "stdout",
     "output_type": "stream",
     "text": [
      "[1 2 3] (3,)\n",
      "[[1 2 3]\n",
      " [4 5 6]] (2, 3)\n",
      "[[1 2 3 4 5 6 7 8 9]] (1, 9)\n",
      "[[1 2 3]\n",
      " [4 5 6]\n",
      " [7 8 9]]\n",
      "[1 2 3 4 5 6 7 8 9]\n"
     ]
    }
   ],
   "source": [
    "arr1 = np.array([1,2,3])\n",
    "arr2 = np.array([[1,2,3],[4,5,6]])\n",
    "print(arr1,arr1.shape)\n",
    "print(arr2,arr2.shape)\n",
    "arr3 = np.array([[1,2,3,4,5,6,7,8,9]])\n",
    "print(arr3,arr3.shape) # 1行9列的二维数组\n",
    "print(arr3.reshape(3,-1)) # 变形为3行3列的二维数组,-1表示自动计算列数\n",
    "print(arr3.reshape(-1)) # 变形为一维数组"
   ]
  },
  {
   "cell_type": "markdown",
   "metadata": {},
   "source": [
    "#### 二、数组的创建"
   ]
  },
  {
   "cell_type": "markdown",
   "metadata": {},
   "source": [
    "##### 1. 递增数组"
   ]
  },
  {
   "cell_type": "code",
   "execution_count": 13,
   "metadata": {},
   "outputs": [
    {
     "name": "stdout",
     "output_type": "stream",
     "text": [
      "[1 3 5 7 9]\n",
      "[0.  0.1 0.2 0.3 0.4 0.5 0.6 0.7 0.8 0.9]\n",
      "[1.  0.9 0.8 0.7 0.6 0.5 0.4 0.3 0.2 0.1]\n"
     ]
    }
   ],
   "source": [
    "print(np.arange(1,10,2)) # 1到10，步长为2的数组\n",
    "print(np.arange(0,1,0.1)) # 0到1，步长为0.1的数组\n",
    "print(np.arange(1,0,-0.1)) # 1到0，步长为-0.1的数组"
   ]
  },
  {
   "cell_type": "markdown",
   "metadata": {},
   "source": [
    "##### 2. 零/单位/对角矩阵"
   ]
  },
  {
   "cell_type": "code",
   "execution_count": 16,
   "metadata": {},
   "outputs": [
    {
     "name": "stdout",
     "output_type": "stream",
     "text": [
      "[0. 0. 0. 0. 0. 0. 0. 0. 0. 0.]\n",
      "[[0. 0. 0.]\n",
      " [0. 0. 0.]]\n",
      "[1. 1. 1. 1. 1. 1. 1. 1. 1. 1.]\n",
      "[[1. 1.]\n",
      " [1. 1.]]\n",
      "[[1. 0. 0.]\n",
      " [0. 1. 0.]\n",
      " [0. 0. 1.]]\n",
      "[[1. 0. 0. 0.]\n",
      " [0. 1. 0. 0.]\n",
      " [0. 0. 1. 0.]]\n",
      "[[1 0 0]\n",
      " [0 2 0]\n",
      " [0 0 3]]\n",
      "[[0 1 0 0]\n",
      " [0 0 2 0]\n",
      " [0 0 0 3]\n",
      " [0 0 0 0]]\n"
     ]
    }
   ],
   "source": [
    "print(np.zeros(10)) # 1到10的零向量\n",
    "print(np.zeros((2,3))) # 3行4列的二维矩阵\n",
    "print(np.ones(10)) # 1到10的单位向量\n",
    "print(np.ones((2,2))) # 2行2列的1矩阵\n",
    "print(np.eye(3)) # 3行3列的单位矩阵\n",
    "print(np.eye(3,4)) # 3行4列的单位矩阵，非方阵，非对称矩阵\n",
    "print(np.diag([1,2,3])) # 1，2，3为对角线元素的对角矩阵\n",
    "print(np.diag([1,2,3],k=1)) # 1，2，3为上对角线元素的对角矩阵"
   ]
  },
  {
   "cell_type": "markdown",
   "metadata": {},
   "source": [
    "##### 3. 随机矩阵"
   ]
  },
  {
   "cell_type": "code",
   "execution_count": null,
   "metadata": {},
   "outputs": [
    {
     "name": "stdout",
     "output_type": "stream",
     "text": [
      "[[0.98292795 0.72677326 0.95810621]\n",
      " [0.80040028 0.34471636 0.98900491]]\n",
      "[[65.88707545 84.49501883 99.10244328]\n",
      " [71.76559589 97.83911202 92.26658336]]\n",
      "[[60 94 66]\n",
      " [63 73 84]]\n",
      "[[-1.40663863 -2.38175848  0.06100711]\n",
      " [ 2.12209589 -0.36360881 -0.33228556]]\n",
      "[[44.27601158 89.12700521 33.95493986]\n",
      " [51.93322562 82.06351164 74.78436717]]\n"
     ]
    }
   ],
   "source": [
    "print(np.random.random((2,3))) # 2行3列的随机数矩阵，范围在[0,1)\n",
    "print(90 * np.random.random((2,3)) + 10.0) # 2行3列的随机数矩阵，范围在[10,100)\n",
    "print(np.random.randint(10,100,(2,3))) # 2行3列的随机数矩阵，范围在[10,100)\n",
    "print(np.random.randn(2,3)) # 2行3列的随机数矩阵,标准正态分布\n",
    "print(np.random.normal(70,30,(2,3))) # 2行3列的随机数矩阵,均值为70，标准差为30的正态分布"
   ]
  },
  {
   "cell_type": "markdown",
   "metadata": {},
   "source": [
    "#### 三、数组的索引"
   ]
  },
  {
   "cell_type": "markdown",
   "metadata": {},
   "source": [
    "##### 1. 访问数组元素，索引从零开始"
   ]
  },
  {
   "cell_type": "code",
   "execution_count": 31,
   "metadata": {},
   "outputs": [
    {
     "name": "stdout",
     "output_type": "stream",
     "text": [
      "2\n",
      "3\n",
      "[1 2 3]\n",
      "[1 4]\n",
      "[[ 1 10  3]\n",
      " [ 4  5  6]]\n"
     ]
    }
   ],
   "source": [
    "arr1 = np.array([[1,2,3],[4,5,6]])\n",
    "print(arr1[0,1]) # 取出第一行第二列的元素\n",
    "print(arr1[0,-1]) # 取出第一行最后一列的元素(逆向访问)\n",
    "print(arr1[0]) # 取出第一行的元素\n",
    "print(arr1[:,0]) # 取出第一列的元素\n",
    "arr1[0,1] = 10.8 # 修改第一行第二列的元素，截断为整数\n",
    "print(arr1)"
   ]
  },
  {
   "cell_type": "markdown",
   "metadata": {},
   "source": [
    "##### 2. 花式索引"
   ]
  },
  {
   "cell_type": "code",
   "execution_count": 34,
   "metadata": {},
   "outputs": [
    {
     "name": "stdout",
     "output_type": "stream",
     "text": [
      "[2 6]\n",
      "[1 5]\n",
      "[[1.  1.  0.5]\n",
      " [1.  0.5 1. ]\n",
      " [0.5 1.  1. ]]\n"
     ]
    }
   ],
   "source": [
    "arr2 = np.array([[1,2,3],[4,5,6]])\n",
    "print(arr2[[0,1],[1,2]]) # 取出第一行第二列和第二行第三列的元素 \n",
    "print(np.diag(arr2)) # 取出对角线元素\n",
    "arr3 = np.ones((3,3)) # 3行3列的1矩阵\n",
    "arr3[[0,1,2],[2,1,0]] = 0.5 # 对角线元素赋值为0.5\n",
    "print(arr3)"
   ]
  },
  {
   "cell_type": "markdown",
   "metadata": {},
   "source": [
    "##### 3. 数组的切片索引 (左开右闭)"
   ]
  },
  {
   "cell_type": "code",
   "execution_count": 49,
   "metadata": {},
   "outputs": [
    {
     "name": "stdout",
     "output_type": "stream",
     "text": [
      "[0 1 2 3 4 5 6 7 8 9]\n",
      "[0 3 6 9]\n",
      "[1 4 7]\n",
      "[[0 1 2 3 4]\n",
      " [5 6 7 8 9]]\n",
      "[[0 1 2]\n",
      " [5 6 7]]\n",
      "[6 7]\n",
      "[6 7 8]\n",
      "[[0 3]]\n",
      "[0 1 2 3 4] [0 1 2 3 4]\n",
      "7\n",
      "[[0 5]\n",
      " [1 6]\n",
      " [2 7]\n",
      " [3 8]\n",
      " [4 9]]\n"
     ]
    }
   ],
   "source": [
    "arr4 = np.arange(10)\n",
    "arr5 = arr4.reshape(2,5) # 2行5列的矩阵\n",
    "print(arr4)\n",
    "print(arr4[::3]) # 取出从第一个元素开始，每隔4个元素取一个元素\n",
    "print(arr4[1:-1:3]) # 切除第一个和最后一个元素，从第二个元素开始，每隔4个元素取一个元素\n",
    "print(arr5)\n",
    "print(arr5[0:2,0:3]) # 取出前两行前三列的元素\n",
    "print(arr5[-1,1:3]) # 取出最后一行第二列到第三列的元素\n",
    "print(arr5[1,1:-1]) # 取出最后一行第二列到倒数第二列的元素\n",
    "print(arr5[::2,::3]) # 取出从第一行开始，每隔2行取一个元素，从第一列开始，每隔3列取一个元素\n",
    "print(arr5[0,:],arr5[0]) # 取出第一行的元素,两种方式都可以，不推荐使用arr5[0]\n",
    "print(arr5[1][2]) # 取出第二列第二行的元素,不推荐使用arr5[1][2]\n",
    "print(arr5.T) # 转置矩阵"
   ]
  },
  {
   "cell_type": "markdown",
   "metadata": {},
   "source": [
    "##### 4. 数组的切片是引用"
   ]
  },
  {
   "cell_type": "code",
   "execution_count": null,
   "metadata": {},
   "outputs": [
    {
     "name": "stdout",
     "output_type": "stream",
     "text": [
      "[[1 2 3]\n",
      " [4 5 6]]\n",
      "[[2 3]\n",
      " [5 6]]\n",
      "[[ 1 10  3]\n",
      " [ 4  5  6]] [[10  3]\n",
      " [ 5  6]] [[2 3]\n",
      " [5 6]]\n"
     ]
    }
   ],
   "source": [
    "arr6 = np.array([[1,2,3],[4,5,6]])\n",
    "print(arr6)\n",
    "arr7 = arr6[0:2,1:3] # 切片操作，取出第一行第二列到第三列和第二行第二列到第三列的元素\n",
    "print(arr7)\n",
    "arr8 = arr6[0:2,1:3].copy() # 复制操作，取出第一行第二列到第三列和第二行第二列到第三列的元素\n",
    "arr7[0,0] = 10 # 修改第一行第二列的元素\n",
    "print(arr6) # 修改了原数组的值，切片操作是引用操作\n",
    "print(arr8) # 没有修改原数组的值，复制操作是值操作\n"
   ]
  },
  {
   "cell_type": "markdown",
   "metadata": {},
   "source": [
    "##### 5. 数组幅值也是引用"
   ]
  },
  {
   "cell_type": "code",
   "execution_count": 63,
   "metadata": {},
   "outputs": [
    {
     "name": "stdout",
     "output_type": "stream",
     "text": [
      "[[10  2  3]\n",
      " [ 4  5  6]]\n"
     ]
    }
   ],
   "source": [
    "arr9 = np.array([[1,2,3],[4,5,6]])\n",
    "arr10 = arr9\n",
    "arr10[0,0] = 10 # 修改第一行第一列的元素\n",
    "print(arr9) # 修改了原数组的值，赋值操作是引用操作"
   ]
  },
  {
   "cell_type": "markdown",
   "metadata": {},
   "source": [
    "#### 四、数组的变形"
   ]
  },
  {
   "cell_type": "markdown",
   "metadata": {},
   "source": [
    "##### 1. 数组的转置 "
   ]
  },
  {
   "cell_type": "code",
   "execution_count": null,
   "metadata": {},
   "outputs": [
    {
     "name": "stdout",
     "output_type": "stream",
     "text": [
      "[1 2 3 4 5 6]\n",
      "[[1 4]\n",
      " [2 5]\n",
      " [3 6]]\n",
      "[1 2 3 4 5 6]\n"
     ]
    }
   ],
   "source": [
    "arr1 = np.array([1,2,3,4,5,6]) # 一维数组\n",
    "print(arr1.T) # 转置操作，仍然是一维数组，没有变化，一维数组(向量)没有转置的概念\n",
    "print(arr1.reshape(2,-1).T) # 变为二维数组后转置"
   ]
  },
  {
   "cell_type": "markdown",
   "metadata": {},
   "source": [
    "##### 2. 数组的翻转"
   ]
  },
  {
   "cell_type": "code",
   "execution_count": 68,
   "metadata": {},
   "outputs": [
    {
     "name": "stdout",
     "output_type": "stream",
     "text": [
      "[0 1 2 3 4 5 6 7 8 9]\n",
      "[9 8 7 6 5 4 3 2 1 0]\n",
      "[[4 3 2 1 0]\n",
      " [9 8 7 6 5]]\n"
     ]
    },
    {
     "data": {
      "text/plain": [
       "array([0, 1, 2, 3, 4, 5, 6, 7, 8, 9])"
      ]
     },
     "execution_count": 68,
     "metadata": {},
     "output_type": "execute_result"
    }
   ],
   "source": [
    "arr2 = np.arange(10)\n",
    "print(arr2) # 0到9的数组\n",
    "print(np.flipud(arr2)) # 反转数组，翻转上下\n",
    "print(np.fliplr(arr2.reshape(2,-1))) # 反转数组，翻转左右\n",
    "arr2"
   ]
  },
  {
   "cell_type": "markdown",
   "metadata": {},
   "source": [
    "##### 3. 数组的拼接"
   ]
  },
  {
   "cell_type": "code",
   "execution_count": null,
   "metadata": {},
   "outputs": [
    {
     "name": "stdout",
     "output_type": "stream",
     "text": [
      "[[0 1 2 3 4]\n",
      " [5 6 7 8 9]]\n",
      "[[0.  0.1 0.2 0.3 0.4]\n",
      " [0.5 0.6 0.7 0.8 0.9]]\n",
      "[[0.  1.  2.  3.  4. ]\n",
      " [5.  6.  7.  8.  9. ]\n",
      " [0.  0.1 0.2 0.3 0.4]\n",
      " [0.5 0.6 0.7 0.8 0.9]]\n",
      "[[0.  1.  2.  3.  4.  0.  0.1 0.2 0.3 0.4]\n",
      " [5.  6.  7.  8.  9.  0.5 0.6 0.7 0.8 0.9]]\n"
     ]
    }
   ],
   "source": [
    "arr3 = np.arange(10).reshape(2,-1) # 0到9的二维数组\n",
    "print(arr3)\n",
    "arr4 = np.arange(0,1,0.1).reshape(2,-1) # 0到1的数组\n",
    "print(arr4)\n",
    "print(np.concatenate((arr3,arr4),axis=0)) # 纵向拼接，默认拼接\n",
    "print(np.concatenate((arr3,arr4),axis=1)) # 横向拼接"
   ]
  },
  {
   "cell_type": "markdown",
   "metadata": {},
   "source": [
    "##### 4. 数组的分裂"
   ]
  },
  {
   "cell_type": "code",
   "execution_count": null,
   "metadata": {},
   "outputs": [
    {
     "name": "stdout",
     "output_type": "stream",
     "text": [
      "[0 1] [2 3 4 5 6 7] [8 9]\n",
      "[[0 1 2 3 4]\n",
      " [5 6 7 8 9]]\n",
      "[array([[0, 1, 2, 3, 4]]), array([[5, 6, 7, 8, 9]])]\n",
      "[array([[0],\n",
      "       [5]]), array([[1, 2],\n",
      "       [6, 7]]), array([[3, 4],\n",
      "       [8, 9]])]\n",
      "[array([[0, 1, 2, 3, 4],\n",
      "       [5, 6, 7, 8, 9]])]\n",
      "[array([[0, 1, 2, 3, 4]]), array([[5, 6, 7, 8, 9]])]\n"
     ]
    }
   ],
   "source": [
    "arr5 = np.arange(10)\n",
    "arr6,arr7,arr8 = np.split(arr5,[2,8]) # 将数组分为三部分，arr6为前两位，arr7为中间六位，arr8为最后两位\n",
    "print(arr6,arr7,arr8)\n",
    "arr9 = np.arange(10).reshape(2,-1) # 0到9的二维数组\n",
    "print(arr9)\n",
    "print(np.split(arr9,[1])) # 按行分割\n",
    "print(np.split(arr9,[1,3], axis=1)) # 按列分割，分为三部分\n",
    "print(np.hsplit(arr9,1)) # 按行分割，分为两部分\n",
    "print(np.vsplit(arr9,2)) # 按列分割，分为两部分"
   ]
  },
  {
   "cell_type": "markdown",
   "metadata": {},
   "source": [
    "#### 五、数组的运算"
   ]
  },
  {
   "cell_type": "markdown",
   "metadata": {},
   "source": [
    "##### 1. 数组的加减乘除"
   ]
  },
  {
   "cell_type": "code",
   "execution_count": null,
   "metadata": {},
   "outputs": [
    {
     "name": "stdout",
     "output_type": "stream",
     "text": [
      "[[0 1 2]\n",
      " [3 4 5]]\n",
      "[[1 2 3]\n",
      " [4 5 6]]\n",
      "[[-1. -1. -1.]\n",
      " [-1. -1. -1.]]\n",
      "[[ 0.  2.  6.]\n",
      " [12. 20. 30.]]\n",
      "[[0.         0.5        0.66666667]\n",
      " [0.75       0.8        0.83333333]]\n",
      "[[  1.  -1.   0.]\n",
      " [  1.  16. 243.]]\n"
     ]
    }
   ],
   "source": [
    "arr1 = np.arange(6).reshape(2,-1) # 0到5的二维数组\n",
    "print(arr1)\n",
    "print(arr1 + 1) # 数组加法\n",
    "arr2 = np.array([[1,2,3],[4,5,6]]).astype(float) # 2行3列的浮点数矩阵\n",
    "print(arr1 - arr2) # 数组减法\n",
    "print(arr1 * arr2) # 数组乘法，对应元素相乘\n",
    "print(arr1 / arr2) # 数组除法，对应元素相除\n",
    "print((arr2-3) ** arr1) # 数组乘方，对应元素相幂"
   ]
  },
  {
   "cell_type": "markdown",
   "metadata": {},
   "source": [
    "##### 2. 广播"
   ]
  },
  {
   "cell_type": "code",
   "execution_count": 99,
   "metadata": {},
   "outputs": [
    {
     "name": "stdout",
     "output_type": "stream",
     "text": [
      "[[-0.24513948  0.37116076  0.55718665]\n",
      " [-0.2863277  -1.67126741 -0.22781796]]\n",
      "[[-0.49027895  1.11348229  2.22874661]\n",
      " [-0.57265539 -5.01380223 -0.91127183]]\n",
      "[[0.75486052 1.37116076 1.55718665]\n",
      " [1.7136723  0.32873259 1.77218204]]\n",
      "[[1 2 3]\n",
      " [0 1 2]]\n"
     ]
    }
   ],
   "source": [
    "arr3 = np.random.randn(2,3) # 2行3列的随机数矩阵,标准正态分布\n",
    "print(arr3)\n",
    "arr4 = np.array([2,3,4])\n",
    "print(arr3 * arr4) # 数组乘法，对应元素相乘，广播机制\n",
    "arr5 = np.array([[1],[2]])\n",
    "print(arr3 + arr5) # 数组加法，对应元素相乘，广播机制\n",
    "print(arr4 - arr5) # 数组减法，对应元素相乘，广播机制"
   ]
  },
  {
   "cell_type": "markdown",
   "metadata": {},
   "source": [
    "#### 六、数组的函数"
   ]
  },
  {
   "cell_type": "markdown",
   "metadata": {},
   "source": [
    "##### 1. 矩阵的乘积"
   ]
  },
  {
   "cell_type": "code",
   "execution_count": null,
   "metadata": {},
   "outputs": [
    {
     "name": "stdout",
     "output_type": "stream",
     "text": [
      "[[22 28]\n",
      " [49 64]]\n",
      "[[22 28]\n",
      " [49 64]]\n",
      "[4 5 6]\n"
     ]
    }
   ],
   "source": [
    "arr1 = np.array([[1,2,3],[4,5,6]])\n",
    "arr2 = np.array([[1,2],[3,4],[5,6]])\n",
    "print(arr1 @ arr2) # 矩阵乘法，内积\n",
    "print(np.dot(arr1,arr2)) # 矩阵乘法的另一种写法\n",
    "arr3 = np.arange(2)\n",
    "print(arr3 @ arr1) # 向量在矩阵乘法时，向量会被视为行向量"
   ]
  },
  {
   "cell_type": "markdown",
   "metadata": {},
   "source": [
    "##### 2. 数学函数"
   ]
  },
  {
   "cell_type": "code",
   "execution_count": null,
   "metadata": {},
   "outputs": [
    {
     "name": "stdout",
     "output_type": "stream",
     "text": [
      "arr4 =  [[ 0.02754661 -0.0150148   1.07787788]\n",
      " [ 0.06952109  1.0184456  -1.33015054]]\n",
      "arr4所有元素求和 =  0.8482258494606334\n",
      "所有元素绝对值 =  [[0.02754661 0.0150148  1.07787788]\n",
      " [0.06952109 1.0184456  1.33015054]]\n",
      "theta =  [0.         1.04719755 2.0943951  3.14159265]\n",
      "[0.00000000e+00 8.66025404e-01 8.66025404e-01 1.22464680e-16]\n",
      "[ 1.   0.5 -0.5 -1. ]\n",
      "[ 0.00000000e+00  1.73205081e+00 -1.73205081e+00 -1.22464680e-16]\n",
      "x =  [2.49907819 0.95588842 1.80484478]\n",
      "e^x =  [12.17126923  2.60098033  6.07902782]\n",
      "2^x =  [5.65324097 1.9397738  3.49391566]\n",
      "lnx =  [ 0.91592194 -0.04511408  0.5904746 ]\n",
      "log10x =  [ 0.39777984 -0.0195928   0.25643986]\n",
      "log10x =  [ 0.39777984 -0.0195928   0.25643986]\n"
     ]
    }
   ],
   "source": [
    "arr4 = np.random.randn(2,3) # 2行3列的随机数矩阵,标准正态分布\n",
    "print('arr4 = ',arr4)\n",
    "print('所有元素绝对值 = ', np.abs(arr4)) # 所有元素绝对值\n",
    "theta = np.arange(4) * np.pi / 3 # 0到2π的数组\n",
    "print('theta = ', theta)\n",
    "print(np.sin(theta)) # 计算正弦值 # 默认为弧度制\n",
    "print(np.cos(theta)) # 计算余弦值 # 默认为弧度制\n",
    "print(np.tan(theta)) # 计算正切值 # 默认为弧度制\n",
    "x = np.abs(1 + np.random.randn(3)) # 10个随机数\n",
    "print('x = ',x)\n",
    "print('e^x = ',np.exp(x)) # 计算e的x次方\n",
    "print('2^x = ',2**x) # 计算2的x次方\n",
    "print('lnx = ',np.log(x)) # 计算x的自然对数\n",
    "print('log10x = ',np.log10(x)) # 计算x的以10为底的对数\n",
    "print('log10x = ',np.log(x) / np.log(10)) # 计算x的以10为底的对数的另一种写法"
   ]
  },
  {
   "cell_type": "markdown",
   "metadata": {},
   "source": [
    "##### 3. 聚合函数"
   ]
  },
  {
   "cell_type": "code",
   "execution_count": 126,
   "metadata": {},
   "outputs": [
    {
     "name": "stdout",
     "output_type": "stream",
     "text": [
      "[[0.34826552 0.21632584 0.58288027]\n",
      " [0.72944024 0.90186539 0.91166502]]\n",
      "按维度一求最大值:  [0.72944024 0.90186539 0.91166502]\n",
      "按维度二求最大值:  [0.58288027 0.91166502]\n",
      "整体求最大值:  0.9116650160907557\n",
      "所有元素求和 =  3.6904422773549537\n",
      "[[1 2 3]\n",
      " [4 5 6]]\n",
      "按维度一求和:  [5 7 9]\n",
      "按维度二求和:  [ 6 15]\n",
      "按维度一求均值:  [2.5 3.5 4.5]\n",
      "按维度二求均值:  [2. 5.]\n",
      "整体求均值:  3.5\n",
      "按维度一求标准差:  [1.5 1.5 1.5]\n",
      "按维度二求标准差:  [0.81649658 0.81649658]\n",
      "整体求标准差:  1.707825127659933\n"
     ]
    }
   ],
   "source": [
    "arr5 = np.random.random((2,3)) # 2行3列的随机数矩阵,标准正态分布\n",
    "print(arr5)\n",
    "print('按维度一求最大值: ',np.max(arr5,axis=0)) # 按列求最大值\n",
    "print('按维度二求最大值: ',np.max(arr5,axis=1)) # 按行求最大值\n",
    "print('整体求最大值: ',np.max(arr5)) # 整体求最大值\n",
    "print('所有元素求和 = ',np.sum(arr5)) # 所有元素求和\n",
    "arr6 = np.array([[1,2,3],[4,5,6]])\n",
    "print(arr6)\n",
    "print('按维度一求和: ',np.sum(arr6,axis=0)) # 按列求和\n",
    "print('按维度二求和: ',np.sum(arr6,axis=1)) # 按行求和\n",
    "print('按维度一求均值: ',np.mean(arr6,axis=0)) # 按列求均值\n",
    "print('按维度二求均值: ',np.mean(arr6,axis=1)) # 按行求均值\n",
    "print('整体求均值: ',np.mean(arr6)) # 整体求均值\n",
    "print('按维度一求标准差: ',np.std(arr6,axis=0)) # 按列求标准差\n",
    "print('按维度二求标准差: ',np.std(arr6,axis=1)) # 按行求标准差\n",
    "print('整体求标准差: ',np.std(arr6)) # 整体求标准差"
   ]
  },
  {
   "cell_type": "markdown",
   "metadata": {},
   "source": [
    "#### 七、布尔型数组"
   ]
  },
  {
   "cell_type": "markdown",
   "metadata": {},
   "source": [
    "##### 1. 创建布尔型数组"
   ]
  },
  {
   "cell_type": "code",
   "execution_count": 129,
   "metadata": {},
   "outputs": [
    {
     "name": "stdout",
     "output_type": "stream",
     "text": [
      "[[False  True  True]\n",
      " [ True  True  True]]\n",
      "[[False  True  True]\n",
      " [ True False False]]\n"
     ]
    }
   ],
   "source": [
    "arr1 = np.array([[1,2,3],[4,5,6]])\n",
    "print(arr1 > 1)\n",
    "arr2 = (arr1 > 1) & (arr1 < 5) # 逻辑与\n",
    "print(arr2)\n",
    " "
   ]
  },
  {
   "cell_type": "markdown",
   "metadata": {},
   "source": [
    "##### 2. 布尔型数组True的数量"
   ]
  },
  {
   "cell_type": "code",
   "execution_count": null,
   "metadata": {},
   "outputs": [
    {
     "name": "stdout",
     "output_type": "stream",
     "text": [
      "695\n",
      "True\n",
      "[[ 1  3  5]\n",
      " [ 7  9 11]]\n",
      "True\n",
      "False\n"
     ]
    }
   ],
   "source": [
    "arr3 = np.random.normal(0,1,1000)\n",
    "print(np.sum(np.abs(arr3) < 1))# 统计绝对值小于1的元素\n",
    "print(np.any(arr3 > 3))# 判断是否有元素大于100\n",
    "arr4 = np.array([[1,2,3],[4,5,6]])\n",
    "arr5 = np.array([[1,2,3],[4,5,6]]) + np.arange(6).reshape(2,-1) # 2行3列的随机数矩阵,标准正态分布\n",
    "print(arr5)\n",
    "print(np.any(arr4 == arr5))# 判断是否有元素相等\n",
    "arr6 = np.random.normal(500,70,1000)\n",
    "print(np.all(arr6 > 250)) # 判断是否所有元素都大于250"
   ]
  },
  {
   "cell_type": "markdown",
   "metadata": {},
   "source": [
    "##### 3. 布尔型数组作为掩码（索引）"
   ]
  },
  {
   "cell_type": "code",
   "execution_count": 258,
   "metadata": {},
   "outputs": [
    {
     "name": "stdout",
     "output_type": "stream",
     "text": [
      "[[ 1  2  3  4]\n",
      " [ 5  6  7  8]\n",
      " [ 9 10 11 12]]\n",
      "[ 6  7  8  9 10 11 12]\n",
      "[False False False False False  True  True  True  True  True]\n",
      "[5 6 7 8 9]\n",
      "[9]\n",
      "(array([ 43,  71, 155, 198, 200, 329, 416, 529, 689, 696, 732, 735, 767,\n",
      "       774, 799, 801, 867], dtype=int64),)\n",
      "(array([529], dtype=int64),)\n"
     ]
    }
   ],
   "source": [
    "arr7 = np.arange(1,13).reshape(3,4) # 3行4列\n",
    "print(arr7)\n",
    "print(arr7[arr7 > 5]) # 取出大于5的元素\n",
    "arr8 = np.arange(10)\n",
    "arr9 = np.flipud(arr8) # 反转数组，翻转上下\n",
    "print(arr8 > arr9)\n",
    "print(arr8[arr8 > arr9]) # 取出大于翻转后的元素\n",
    "print(arr8[arr8 == np.max(arr8)]) # 取出最大值的元素\n",
    "arr9 = np.random.normal(500,70,1000)\n",
    "print(np.where(arr9 > 650)) # 返回大于500的元素的索引\n",
    "print(np.where(arr9 == np.max(arr9))) # 返回最大值的元素的索引"
   ]
  }
 ],
 "metadata": {
  "kernelspec": {
   "display_name": "DRL_env",
   "language": "python",
   "name": "python3"
  },
  "language_info": {
   "codemirror_mode": {
    "name": "ipython",
    "version": 3
   },
   "file_extension": ".py",
   "mimetype": "text/x-python",
   "name": "python",
   "nbconvert_exporter": "python",
   "pygments_lexer": "ipython3",
   "version": "3.8.20"
  }
 },
 "nbformat": 4,
 "nbformat_minor": 2
}
