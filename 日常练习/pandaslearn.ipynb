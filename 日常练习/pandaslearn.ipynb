{
 "cells": [
  {
   "cell_type": "markdown",
   "metadata": {},
   "source": [
    "### Pandas标签库学习 [Python深度学习：Pandas标签库](https://www.bilibili.com/video/BV1hP41197we/?share_source=copy_web&vd_source=43c4eb4ed8da935694eaeb473fd0f6cb)"
   ]
  },
  {
   "cell_type": "code",
   "execution_count": 2,
   "metadata": {},
   "outputs": [],
   "source": [
    "import pandas as pd\n",
    "import numpy as np"
   ]
  },
  {
   "cell_type": "markdown",
   "metadata": {},
   "source": [
    "#### 一、对象的创建"
   ]
  },
  {
   "cell_type": "markdown",
   "metadata": {},
   "source": [
    "##### 1. pandas中用series的方式将字典转换为数据，也可以直接定义键与值，值可以是列表、数组、张量"
   ]
  },
  {
   "cell_type": "code",
   "execution_count": 8,
   "metadata": {},
   "outputs": [
    {
     "name": "stdout",
     "output_type": "stream",
     "text": [
      "[1, 2, 3]\n",
      "0    1\n",
      "1    2\n",
      "2    3\n",
      "dtype: int32\n",
      "a    1\n",
      "b    2\n",
      "c    3\n",
      "dtype: int32\n",
      "Index(['a', 'b', 'c'], dtype='object')\n",
      "[1 2 3] <class 'numpy.ndarray'>\n"
     ]
    }
   ],
   "source": [
    "l_v = [1, 2, 3]\n",
    "print(l_v)\n",
    "print(pd.Series(np.array(l_v))) # 默认的键是0,1,2,3,4....\n",
    "j_v = ['a', 'b', 'c']\n",
    "p_v = pd.Series(np.array(l_v), index=j_v) # 自定义键\n",
    "print(p_v) \n",
    "print(p_v.index) # 查看索引\n",
    "print(p_v.values, type(p_v.values)) # 查看值,类型是ndarray，即pandas库基于numpy"
   ]
  },
  {
   "cell_type": "markdown",
   "metadata": {},
   "source": [
    "##### 2. 二维对象的创建，相当于一列一列的数据拼接"
   ]
  },
  {
   "cell_type": "code",
   "execution_count": null,
   "metadata": {},
   "outputs": [
    {
     "name": "stdout",
     "output_type": "stream",
     "text": [
      "x    1\n",
      "y    2\n",
      "a    3\n",
      "dtype: int64\n",
      "   cs1  cs2\n",
      "a  1.0  3.0\n",
      "b  2.0  NaN\n",
      "c  3.0  NaN\n",
      "x  NaN  1.0\n",
      "y  NaN  2.0\n",
      "[['24' '男']\n",
      " ['21' '女']\n",
      " ['32' '男']]\n",
      "   年龄 性别\n",
      "a  24  男\n",
      "b  21  女\n",
      "c  32  男\n"
     ]
    }
   ],
   "source": [
    "p_v2 = pd.Series({'x': 1, 'y': 2, 'a': 3})\n",
    "print(p_v2)\n",
    "p_vv = pd.DataFrame({'cs1': p_v, 'cs2': p_v2})\n",
    "print(p_vv) # 直接拼接，取并集，缺失值为NaN\n",
    "v = np.array([[24, 21, 32], ['男', '女', '男']]).T # v是一个二维数组，元素类型是str\n",
    "print(v)\n",
    "print(pd.DataFrame(v,index = ['a', 'b', 'c'], columns=['年龄','性别'])) # 参数分别是值，行索引和列索引"
   ]
  },
  {
   "cell_type": "markdown",
   "metadata": {},
   "source": [
    "#### 二、对象的索引"
   ]
  },
  {
   "cell_type": "markdown",
   "metadata": {},
   "source": [
    "##### 1. pandas索引分为显式索引和隐式索引,隐式索引即默认从0开始的整数索引，显式索引即用户自定义的索引"
   ]
  },
  {
   "cell_type": "code",
   "execution_count": 29,
   "metadata": {},
   "outputs": [
    {
     "name": "stdout",
     "output_type": "stream",
     "text": [
      "男    24\n",
      "女    21\n",
      "男    32\n",
      "dtype: int64\n",
      "21\n",
      "24\n",
      "男    24\n",
      "男    32\n",
      "dtype: int64\n",
      "男    24\n",
      "女    21\n",
      "dtype: int64\n",
      "男    24\n",
      "男    32\n",
      "dtype: int64\n",
      "男    24\n",
      "男    32\n",
      "dtype: int64\n",
      "24\n"
     ]
    }
   ],
   "source": [
    "v = [24, 21, 32]\n",
    "k = ['男', '女', '男']\n",
    "sr = pd.Series(v, index=k) # 直接用列表创建Series\n",
    "print(sr)\n",
    "print(sr['女']) # 显式索引\n",
    "print(sr[0]) # 隐式索引\n",
    "print(sr['男']) # 显式索引\n",
    "print(sr[0:2]) # 切片索引，包含0，不包含2\n",
    "print(sr[[0,2]]) # 花式索引\n",
    "## 如果自定义索引和隐式索引重合，可以使用索引器\n",
    "print(sr.loc['男']) # 显式索引器\n",
    "print(sr.iloc[0]) # 隐式索引器"
   ]
  },
  {
   "cell_type": "markdown",
   "metadata": {},
   "source": [
    "##### 2. 索引也是一个引用"
   ]
  },
  {
   "cell_type": "code",
   "execution_count": null,
   "metadata": {},
   "outputs": [
    {
     "name": "stdout",
     "output_type": "stream",
     "text": [
      "男    24\n",
      "女    21\n",
      "dtype: int64\n",
      "男    100\n",
      "女     21\n",
      "dtype: int64\n"
     ]
    }
   ],
   "source": [
    "sr_t = sr[0:2] # 切片索引，包含0，不包含2\n",
    "print(sr_t) # 结果是一个新的Series对象\n",
    "sr_t[0] = 100 # 修改sr_t的值\n",
    "print(sr_t) # sr_t的值已经改变了"
   ]
  },
  {
   "cell_type": "markdown",
   "metadata": {},
   "source": [
    "##### 3. 多维pandas对象在访问时必需使用索引器"
   ]
  },
  {
   "cell_type": "code",
   "execution_count": null,
   "metadata": {},
   "outputs": [
    {
     "name": "stdout",
     "output_type": "stream",
     "text": [
      "   年龄 性别\n",
      "a  24  男\n",
      "b  21  女\n",
      "c  32  男\n",
      "年龄    24\n",
      "性别     男\n",
      "Name: a, dtype: object\n",
      "年龄    24\n",
      "性别     男\n",
      "Name: a, dtype: object\n",
      "男\n"
     ]
    }
   ],
   "source": [
    "v = np.array([[24, 21, 32], ['男', '女', '男']]).T # v是一个二维数组，元素类型是str\n",
    "df = pd.DataFrame(v,index = ['a', 'b', 'c'], columns=['年龄','性别']) # 参数分别是值，行索引和列索引\n",
    "print(df)\n",
    "print(df.loc['a', :]) # 显式索引器，返回行索引为'a'的行\n",
    "print(df.iloc[0, :]) # 隐式索引器，返回第一行\n",
    "print(df.iloc[0, :]) # 隐式索引器，返回第一行\n",
    "print(df.iloc[0]) # 隐式索引器，返回第一行\n",
    "print(df.loc['a', '性别']) # 显式索引器，返回行索引为'a'，列索引为'性别'的值"
   ]
  },
  {
   "cell_type": "markdown",
   "metadata": {},
   "source": [
    "#### 三、对象的变形"
   ]
  },
  {
   "cell_type": "markdown",
   "metadata": {},
   "source": [
    "##### 1. 转置与翻转"
   ]
  },
  {
   "cell_type": "code",
   "execution_count": 38,
   "metadata": {},
   "outputs": [
    {
     "name": "stdout",
     "output_type": "stream",
     "text": [
      "     a   b   c\n",
      "年龄  24  21  32\n",
      "性别   男   女   男\n",
      "   年龄 性别\n",
      "a  24  男\n",
      "b  21  女\n",
      "c  32  男\n",
      "     c   b   a\n",
      "年龄  32  21  24\n",
      "性别   男   女   男\n",
      "     a   b   c\n",
      "性别   男   女   男\n",
      "年龄  24  21  32\n"
     ]
    }
   ],
   "source": [
    "v = np.array([[24, 21, 32], ['男', '女', '男']]).T # v是一个二维数组，元素类型是str\n",
    "df = (pd.DataFrame(v,index = ['a', 'b', 'c'], columns=['年龄','性别'])).T # 参数分别是值，行索引和列索引\n",
    "print(df)\n",
    "print(df.T) # 转置\n",
    "# 左右翻转\n",
    "print(df.iloc[:, ::-1]) # 左右翻转\n",
    "# 上下翻转\n",
    "print(df.iloc[::-1, :]) # 上下翻转"
   ]
  },
  {
   "cell_type": "markdown",
   "metadata": {},
   "source": [
    "##### 2. 对象的拼接"
   ]
  },
  {
   "cell_type": "code",
   "execution_count": null,
   "metadata": {},
   "outputs": [
    {
     "name": "stdout",
     "output_type": "stream",
     "text": [
      "     年龄 性别\n",
      "1 号  10  女\n",
      "2 号  20  男\n",
      "3 号  30  男\n",
      "4 号  40  女\n"
     ]
    }
   ],
   "source": [
    "#  数组法创建 sr\n",
    "i = [ '1 号', '2 号', '3 号', '4 号' ] \n",
    "v1 = [ 10, 20, 30, 40 ]\n",
    "v2 = [ '女', '男', '男', '女' ] \n",
    "v3 = [ 1, 2, 3, 4 ]\n",
    "sr1 = pd.Series( v1, index=i )\n",
    "sr2 = pd.Series( v2, index=i )\n",
    "sr3 = pd.Series( v3, index=i ) \n",
    "#   字典法创建 df\n",
    "df = pd.DataFrame( { '年龄':sr1, '性别':sr2 } ) \n",
    "print(df)\n",
    "#  把 df['年龄']分离成 sr4 \n",
    "sr4 = df['年龄']\n",
    "print(sr4) # 结果是一个Series对象"
   ]
  },
  {
   "cell_type": "markdown",
   "metadata": {},
   "source": [
    "##### 3. 对象的合并"
   ]
  },
  {
   "cell_type": "code",
   "execution_count": null,
   "metadata": {},
   "outputs": [
    {
     "name": "stdout",
     "output_type": "stream",
     "text": [
      "1 号    10\n",
      "2 号    20\n",
      "3 号    30\n",
      "4 号    40\n",
      "4 号    40\n",
      "5 号    50\n",
      "6 号    60\n",
      "dtype: int64\n",
      "     年龄 性别\n",
      "1 号  10  女\n",
      "2 号  20  男\n",
      "3 号  30  男\n",
      "     年龄 性别  牌照\n",
      "1 号  10  女   1\n",
      "2 号  20  男   2\n",
      "3 号  30  男   3\n",
      "     年龄 性别  牌照\n",
      "1 号  10  女   1\n",
      "2 号  20  男   2\n",
      "3 号  30  男   3\n",
      "4 号  40  女   4\n",
      "     年龄 性别\n",
      "1 号  10  女\n",
      "2 号  20  男\n",
      "3 号  30  男\n",
      "4 号  40  女\n",
      "     牌照 ikun\n",
      "1 号   1    是\n",
      "2 号   2    是\n",
      "3 号   3    是\n",
      "4 号   4    否\n",
      "     年龄 性别  牌照 ikun\n",
      "5 号  50  男   5    是\n",
      "6 号  60  女   6    是\n"
     ]
    }
   ],
   "source": [
    "v1 = [10, 20, 30, 40]\n",
    "v2 = [40, 50, 60]\n",
    "k1 = [ '1 号', '2 号', '3 号', '4 号' ] \n",
    "k2 = [ '4 号', '5 号', '6 号' ]\n",
    "sr1 = pd.Series( v1, index= k1 )\n",
    "sr2 = pd.Series( v2, index= k2 )\n",
    "print(pd.concat([sr1, sr2])) # Pandas 对象的 属性，放弃了集合与字典索引中“不可重复 ”的特性\n",
    "\n",
    "v1 = [ 10, 20, 30]\n",
    "v2 = [ '女', '男', '男']\n",
    "sr1 = pd.Series( v1, index=[ '1 号', '2 号', '3 号'] )\n",
    "sr2 = pd.Series( v2, index=[ '1 号', '2 号', '3 号'] ) \n",
    "df = pd.DataFrame( { '年龄':sr1, '性别':sr2 } ) \n",
    "print(df)\n",
    "df[ '牌照'] = [1, 2, 3] # 添加新列\n",
    "print(df) \n",
    "df.loc[ '4 号'] = [40, '女', 4]\n",
    "print(df) # 添加新行\n",
    "\n",
    "# 二维对象合并\n",
    "v1 = [ [10, '女'], [20, '男'], [30, '男'], [40, '女'] ] \n",
    "v2 = [ [1, '是'], [2, '是'], [3, '是'], [4, '否'] ]\n",
    "v3 = [ [50, '男', 5, '是'], [60, '女', 6, '是'] ] \n",
    "i1 = [ '1 号', '2 号', '3 号', '4 号' ]\n",
    "i2 = [ '1 号', '2 号', '3 号', '4 号' ]\n",
    "i3 = [ '5 号', '6 号' ]\n",
    "c1 = [ '年龄', '性别' ]\n",
    "c2 = [ '牌照', 'ikun' ]\n",
    "c3 = [ '年龄', '性别', '牌照', 'ikun' ]\n",
    "df1 = pd.DataFrame( v1, index=i1, columns=c1 )\n",
    "df2 = pd.DataFrame( v2, index=i2, columns=c2 )\n",
    "df3 = pd.DataFrame( v3, index=i3, columns=c3 )\n",
    "print(df1)\n",
    "print(df2)\n",
    "print(df3)"
   ]
  },
  {
   "cell_type": "markdown",
   "metadata": {},
   "source": [
    "#### 四、对象的运算"
   ]
  },
  {
   "cell_type": "markdown",
   "metadata": {},
   "source": [
    "##### 1. 对象与系数之间的运算"
   ]
  },
  {
   "cell_type": "code",
   "execution_count": 7,
   "metadata": {},
   "outputs": [
    {
     "name": "stdout",
     "output_type": "stream",
     "text": [
      "1 号    53\n",
      "2 号    64\n",
      "3 号    72\n",
      "dtype: int64\n",
      "     年龄 性别\n",
      "1 号  53  女\n",
      "2 号  64  男\n",
      "3 号  72  男\n",
      "1 号    63\n",
      "2 号    74\n",
      "3 号    82\n",
      "dtype: int64\n",
      "1 号    530\n",
      "2 号    640\n",
      "3 号    720\n",
      "dtype: int64\n",
      "     年龄 性别\n",
      "1 号  63  女\n",
      "2 号  74  男\n",
      "3 号  82  男\n",
      "      年龄   性别\n",
      "1 号  189  女女女\n",
      "2 号  222  男男男\n",
      "3 号  246  男男男\n"
     ]
    }
   ],
   "source": [
    "sr = pd.Series( [ 53, 64, 72 ] , index=['1 号', '2 号', '3 号'] )\n",
    "print(sr)\n",
    "v= [ [53, '女'], [64, '男'], [72, '男'] ]\n",
    "df = pd.DataFrame( v, index=[ '1 号', '2 号', '3 号' ], columns=[ '年龄', '性别' ] )\n",
    "print(df)\n",
    "print(sr+10)\n",
    "print(sr*10)\n",
    "df['年龄']  =  df['年龄'] + 10\n",
    "print(df)\n",
    "print(df*3)"
   ]
  },
  {
   "cell_type": "markdown",
   "metadata": {},
   "source": [
    "##### 2. 对象与对象之间的运算"
   ]
  },
  {
   "cell_type": "code",
   "execution_count": null,
   "metadata": {},
   "outputs": [
    {
     "name": "stdout",
     "output_type": "stream",
     "text": [
      "1 号    10\n",
      "2 号    20\n",
      "3 号    30\n",
      "4 号    40\n",
      "dtype: int64\n",
      "1 号    1\n",
      "2 号    2\n",
      "3 号    3\n",
      "dtype: int64\n",
      "1 号    11.0\n",
      "2 号    22.0\n",
      "3 号    33.0\n",
      "4 号     NaN\n",
      "dtype: float64\n",
      "1 号    10.0\n",
      "2 号    40.0\n",
      "3 号    90.0\n",
      "4 号     NaN\n",
      "dtype: float64\n",
      "     年龄 性别\n",
      "1 号  10  女\n",
      "2 号  20  男\n",
      "3 号  30  男\n",
      "4 号  40  女\n",
      "     牌照\n",
      "1 号   1\n",
      "2 号   2\n",
      "3 号   3\n",
      "6 号   6\n",
      "     年龄 性别    加法    减法    乘法    除法       幂方\n",
      "1 号  10  女  11.0   9.0  10.0  10.0     10.0\n",
      "2 号  20  男  22.0  18.0  40.0  10.0    400.0\n",
      "3 号  30  男  33.0  27.0  90.0  10.0  27000.0\n",
      "4 号  40  女   NaN   NaN   NaN   NaN      NaN\n",
      "1 号   -0.839072\n",
      "2 号    0.408082\n",
      "3 号    0.154251\n",
      "4 号   -0.666938\n",
      "Name: 年龄, dtype: float64\n"
     ]
    }
   ],
   "source": [
    "v1 = [10, 20, 30, 40]\n",
    "k1 = [ '1 号', '2 号', '3 号', '4 号' ] \n",
    "sr1 = pd.Series( v1, index= k1 )\n",
    "print(sr1)\n",
    "v2 = [1, 2, 3 ]\n",
    "k2 = [ '1 号', '2 号', '3 号' ]\n",
    "sr2 = pd.Series( v2, index= k2 )\n",
    "print(sr2)\n",
    "print(sr1 + sr2) # 结果是一个Series对象，索引是并集，缺失值为NaN\n",
    "print(sr1 * sr2) # 结果是一个Series对象，索引是并集，缺失值为NaN\n",
    "\n",
    "# 多维对象的运算\n",
    "\n",
    "v1 = [ [10, '女'], [20, '男'], [30, '男'], [40, '女'] ] \n",
    "v2 = [ 1, 2 ,3, 6 ]\n",
    "i1 = [ '1 号', '2 号', '3 号', '4 号' ];     \n",
    "c1 = [ '年龄', '性别' ]\n",
    "i2 = [ '1 号', '2 号', '3 号', '6 号' ];     \n",
    "c2 = [ '牌照' ]   \n",
    "df1 = pd.DataFrame( v1, index=i1, columns=c1 )\n",
    "df2 = pd.DataFrame( v2, index=i2, columns=c2 ) \n",
    "print(df1)\n",
    "print(df2)\n",
    "df1[ '加法'] = df1['年龄'] + df2['牌照']\n",
    "df1[ '减法'] = df1['年龄'] - df2['牌照']\n",
    "df1[ '乘法'] = df1['年龄'] * df2[ '牌照']\n",
    "df1[ '除法'] = df1['年龄'] / df2['牌照']    \n",
    "df1[ '幂方'] = df1['年龄'] ** df2[ '牌照'] \n",
    "print(df1)\n",
    "print(np.cos(df1['年龄'])) \n",
    "# 使用 np.abs()、np.cos()、np.exp()、np.log()   等数学函数时，会保留索引；\n",
    "# Pandas 中仍然存在布尔型对象，用法与 NumPy 无异，会保留索引。\n"
   ]
  },
  {
   "cell_type": "markdown",
   "metadata": {},
   "source": [
    "#### 五、对象的缺失值"
   ]
  },
  {
   "cell_type": "markdown",
   "metadata": {},
   "source": [
    "##### 1. 判断缺失值"
   ]
  },
  {
   "cell_type": "code",
   "execution_count": 25,
   "metadata": {},
   "outputs": [
    {
     "name": "stdout",
     "output_type": "stream",
     "text": [
      "1 号    53.0\n",
      "2 号     NaN\n",
      "3 号    72.0\n",
      "4 号    82.0\n",
      "dtype: float64\n",
      "       年龄   牌照\n",
      "1 号   NaN  1.0\n",
      "2 号  64.0  NaN\n",
      "3 号  72.0  3.0\n",
      "4 号  82.0  4.0\n",
      "1 号    False\n",
      "2 号     True\n",
      "3 号    False\n",
      "4 号    False\n",
      "dtype: bool\n",
      "        年龄     牌照\n",
      "1 号   True  False\n",
      "2 号  False   True\n",
      "3 号  False  False\n",
      "4 号  False  False\n"
     ]
    }
   ],
   "source": [
    "v = [ 53, None, 72, 82 ]\n",
    "k = ['1 号', '2 号', '3 号', '4 号'] \n",
    "sr = pd.Series( v, index=k )\n",
    "v = [ [None, 1], [64, None], [72, 3], [82, 4] ] \n",
    "i = [ '1 号', '2 号', '3 号', '4 号' ]\n",
    "c = [ '年龄', '牌照' ]\n",
    "df = pd.DataFrame( v, index=i, columns=c ) \n",
    "print(sr)\n",
    "print(df)\n",
    "print(sr.isnull()) # 判断是否为缺失值，返回布尔型对象  \n",
    "print(df.isnull()) # 判断是否为缺失值，返回布尔型对象"
   ]
  },
  {
   "cell_type": "markdown",
   "metadata": {},
   "source": [
    "##### 2. 删除缺失值"
   ]
  },
  {
   "cell_type": "code",
   "execution_count": 26,
   "metadata": {},
   "outputs": [
    {
     "name": "stdout",
     "output_type": "stream",
     "text": [
      "1 号    53.0\n",
      "3 号    72.0\n",
      "4 号    82.0\n",
      "dtype: float64\n",
      "       年龄   牌照\n",
      "2 号  64.0  NaN\n",
      "3 号  72.0  3.0\n",
      "4 号  82.0  4.0\n"
     ]
    }
   ],
   "source": [
    "print(sr.dropna()) # 删除缺失值，返回一个新的Series对象\n",
    "#  剔除 df 全是 NaN 的个体\n",
    "df.loc['1 号','牌照'] = None\n",
    "print(df.dropna(how='all'))"
   ]
  },
  {
   "cell_type": "markdown",
   "metadata": {},
   "source": [
    "##### 3. 填补缺失值"
   ]
  },
  {
   "cell_type": "code",
   "execution_count": 27,
   "metadata": {},
   "outputs": [
    {
     "name": "stdout",
     "output_type": "stream",
     "text": [
      "1 号    53.0\n",
      "2 号     0.0\n",
      "3 号    72.0\n",
      "4 号    82.0\n",
      "dtype: float64\n",
      "1 号    53.0\n",
      "2 号    69.0\n",
      "3 号    72.0\n",
      "4 号    82.0\n",
      "dtype: float64\n",
      "1 号    53.0\n",
      "2 号    53.0\n",
      "3 号    72.0\n",
      "4 号    82.0\n",
      "dtype: float64\n",
      "1 号    53.0\n",
      "2 号    72.0\n",
      "3 号    72.0\n",
      "4 号    82.0\n",
      "dtype: float64\n",
      "       年龄   牌照\n",
      "1 号   0.0  0.0\n",
      "2 号  64.0  0.0\n",
      "3 号  72.0  3.0\n",
      "4 号  82.0  4.0\n"
     ]
    }
   ],
   "source": [
    "print(sr.fillna(0)) # 用0填补缺失值，返回一个新的Series对象\n",
    "print(sr.fillna(np.mean(sr))) # 用均值填补缺失值，返回一个新的Series对象\n",
    "print(sr.fillna(method='ffill')) # 用前一个值填补缺失值，返回一个新的Series对象\n",
    "print(sr.fillna(method='bfill')) # 用后一个值填补缺失值，返回一个新的Series对象\n",
    "print(df.fillna(0)) # 用0填补缺失值，返回一个新的DataFrame对象"
   ]
  },
  {
   "cell_type": "markdown",
   "metadata": {},
   "source": [
    "#### 六、导入excel"
   ]
  },
  {
   "cell_type": "code",
   "execution_count": 31,
   "metadata": {},
   "outputs": [
    {
     "name": "stdout",
     "output_type": "stream",
     "text": [
      "     age gender  num kun\n",
      "1号  10.0      女    1   是\n",
      "2号  20.0      男    2   是\n",
      "3号  30.0      男    3   是\n",
      "4号  40.0      女    4   否\n",
      "5号  50.0      男    5   是\n",
      "6号  60.0      女    6   是\n",
      "[[10.0 '女' 1 '是']\n",
      " [20.0 '男' 2 '是']\n",
      " [30.0 '男' 3 '是']\n",
      " [40.0 '女' 4 '否']\n",
      " [50.0 '男' 5 '是']\n",
      " [60.0 '女' 6 '是']]\n"
     ]
    }
   ],
   "source": [
    "df = pd.read_csv('resoures//Data.csv', index_col=0) \n",
    "print(df) # 读取csv文件，index_col=0表示第一列作为索引\n",
    "arr = df.values # 转换为ndarray对象\n",
    "print(arr) # 打印ndarray对象"
   ]
  },
  {
   "cell_type": "markdown",
   "metadata": {},
   "source": [
    "#### 七、数据分析"
   ]
  },
  {
   "cell_type": "code",
   "execution_count": null,
   "metadata": {},
   "outputs": [
    {
     "data": {
      "text/html": [
       "<div>\n",
       "<style scoped>\n",
       "    .dataframe tbody tr th:only-of-type {\n",
       "        vertical-align: middle;\n",
       "    }\n",
       "\n",
       "    .dataframe tbody tr th {\n",
       "        vertical-align: top;\n",
       "    }\n",
       "\n",
       "    .dataframe thead th {\n",
       "        text-align: right;\n",
       "    }\n",
       "</style>\n",
       "<table border=\"1\" class=\"dataframe\">\n",
       "  <thead>\n",
       "    <tr style=\"text-align: right;\">\n",
       "      <th></th>\n",
       "      <th>发现时间</th>\n",
       "      <th>发现数量</th>\n",
       "      <th>观测方法</th>\n",
       "      <th>行星质量</th>\n",
       "      <th>距地距离</th>\n",
       "      <th>轨道周期</th>\n",
       "    </tr>\n",
       "  </thead>\n",
       "  <tbody>\n",
       "    <tr>\n",
       "      <th>0</th>\n",
       "      <td>1989</td>\n",
       "      <td>1</td>\n",
       "      <td>径向速度</td>\n",
       "      <td>11.680</td>\n",
       "      <td>40.57</td>\n",
       "      <td>83.8880</td>\n",
       "    </tr>\n",
       "    <tr>\n",
       "      <th>1</th>\n",
       "      <td>1992</td>\n",
       "      <td>3</td>\n",
       "      <td>脉冲星计时</td>\n",
       "      <td>NaN</td>\n",
       "      <td>NaN</td>\n",
       "      <td>25.2620</td>\n",
       "    </tr>\n",
       "    <tr>\n",
       "      <th>2</th>\n",
       "      <td>1992</td>\n",
       "      <td>3</td>\n",
       "      <td>脉冲星计时</td>\n",
       "      <td>NaN</td>\n",
       "      <td>NaN</td>\n",
       "      <td>66.5419</td>\n",
       "    </tr>\n",
       "    <tr>\n",
       "      <th>3</th>\n",
       "      <td>1994</td>\n",
       "      <td>3</td>\n",
       "      <td>脉冲星计时</td>\n",
       "      <td>NaN</td>\n",
       "      <td>NaN</td>\n",
       "      <td>98.2114</td>\n",
       "    </tr>\n",
       "    <tr>\n",
       "      <th>4</th>\n",
       "      <td>1995</td>\n",
       "      <td>1</td>\n",
       "      <td>径向速度</td>\n",
       "      <td>0.472</td>\n",
       "      <td>15.36</td>\n",
       "      <td>4.2308</td>\n",
       "    </tr>\n",
       "    <tr>\n",
       "      <th>...</th>\n",
       "      <td>...</td>\n",
       "      <td>...</td>\n",
       "      <td>...</td>\n",
       "      <td>...</td>\n",
       "      <td>...</td>\n",
       "      <td>...</td>\n",
       "    </tr>\n",
       "    <tr>\n",
       "      <th>1030</th>\n",
       "      <td>2014</td>\n",
       "      <td>1</td>\n",
       "      <td>凌日</td>\n",
       "      <td>NaN</td>\n",
       "      <td>NaN</td>\n",
       "      <td>2.4650</td>\n",
       "    </tr>\n",
       "    <tr>\n",
       "      <th>1031</th>\n",
       "      <td>2014</td>\n",
       "      <td>1</td>\n",
       "      <td>凌日</td>\n",
       "      <td>NaN</td>\n",
       "      <td>NaN</td>\n",
       "      <td>68.9584</td>\n",
       "    </tr>\n",
       "    <tr>\n",
       "      <th>1032</th>\n",
       "      <td>2014</td>\n",
       "      <td>1</td>\n",
       "      <td>凌日</td>\n",
       "      <td>NaN</td>\n",
       "      <td>1056.00</td>\n",
       "      <td>1.7209</td>\n",
       "    </tr>\n",
       "    <tr>\n",
       "      <th>1033</th>\n",
       "      <td>2014</td>\n",
       "      <td>1</td>\n",
       "      <td>凌日</td>\n",
       "      <td>NaN</td>\n",
       "      <td>NaN</td>\n",
       "      <td>66.2620</td>\n",
       "    </tr>\n",
       "    <tr>\n",
       "      <th>1034</th>\n",
       "      <td>2014</td>\n",
       "      <td>1</td>\n",
       "      <td>凌日</td>\n",
       "      <td>NaN</td>\n",
       "      <td>470.00</td>\n",
       "      <td>0.9255</td>\n",
       "    </tr>\n",
       "  </tbody>\n",
       "</table>\n",
       "<p>1035 rows × 6 columns</p>\n",
       "</div>"
      ],
      "text/plain": [
       "      发现时间  发现数量   观测方法    行星质量     距地距离     轨道周期\n",
       "0     1989     1   径向速度  11.680    40.57  83.8880\n",
       "1     1992     3  脉冲星计时     NaN      NaN  25.2620\n",
       "2     1992     3  脉冲星计时     NaN      NaN  66.5419\n",
       "3     1994     3  脉冲星计时     NaN      NaN  98.2114\n",
       "4     1995     1   径向速度   0.472    15.36   4.2308\n",
       "...    ...   ...    ...     ...      ...      ...\n",
       "1030  2014     1     凌日     NaN      NaN   2.4650\n",
       "1031  2014     1     凌日     NaN      NaN  68.9584\n",
       "1032  2014     1     凌日     NaN  1056.00   1.7209\n",
       "1033  2014     1     凌日     NaN      NaN  66.2620\n",
       "1034  2014     1     凌日     NaN   470.00   0.9255\n",
       "\n",
       "[1035 rows x 6 columns]"
      ]
     },
     "execution_count": 35,
     "metadata": {},
     "output_type": "execute_result"
    }
   ],
   "source": [
    "pd.read_csv('resoures//行星数据.csv', index_col=0, encoding='gbk') # 读取csv文件，index_col=0表示第一列作为索引，encoding='gbk'表示编码格式为gbk    "
   ]
  },
  {
   "cell_type": "markdown",
   "metadata": {},
   "source": [
    "##### 1. 聚合方法"
   ]
  },
  {
   "cell_type": "code",
   "execution_count": 42,
   "metadata": {},
   "outputs": [
    {
     "name": "stdout",
     "output_type": "stream",
     "text": [
      "发现时间        2014\n",
      "发现数量           7\n",
      "观测方法      轨道亮度调制\n",
      "行星质量        25.0\n",
      "距地距离      8500.0\n",
      "轨道周期    730000.0\n",
      "dtype: object\n",
      "发现时间      1989\n",
      "发现数量         1\n",
      "观测方法        凌日\n",
      "行星质量    0.0036\n",
      "距地距离      1.35\n",
      "轨道周期    0.0907\n",
      "dtype: object\n",
      "发现时间                                              2079388\n",
      "发现数量                                                 1848\n",
      "观测方法    径向速度脉冲星计时脉冲星计时脉冲星计时径向速度径向速度径向速度径向速度径向速度径向速度径向速...\n",
      "行星质量                                           1353.37638\n",
      "距地距离                                            213367.98\n",
      "轨道周期                                         1986894.2555\n",
      "dtype: object\n"
     ]
    },
    {
     "data": {
      "text/html": [
       "<div>\n",
       "<style scoped>\n",
       "    .dataframe tbody tr th:only-of-type {\n",
       "        vertical-align: middle;\n",
       "    }\n",
       "\n",
       "    .dataframe tbody tr th {\n",
       "        vertical-align: top;\n",
       "    }\n",
       "\n",
       "    .dataframe thead th {\n",
       "        text-align: right;\n",
       "    }\n",
       "</style>\n",
       "<table border=\"1\" class=\"dataframe\">\n",
       "  <thead>\n",
       "    <tr style=\"text-align: right;\">\n",
       "      <th></th>\n",
       "      <th>发现时间</th>\n",
       "      <th>发现数量</th>\n",
       "      <th>行星质量</th>\n",
       "      <th>距地距离</th>\n",
       "      <th>轨道周期</th>\n",
       "    </tr>\n",
       "  </thead>\n",
       "  <tbody>\n",
       "    <tr>\n",
       "      <th>count</th>\n",
       "      <td>1035.000000</td>\n",
       "      <td>1035.000000</td>\n",
       "      <td>513.000000</td>\n",
       "      <td>808.000000</td>\n",
       "      <td>992.000000</td>\n",
       "    </tr>\n",
       "    <tr>\n",
       "      <th>mean</th>\n",
       "      <td>2009.070531</td>\n",
       "      <td>1.785507</td>\n",
       "      <td>2.638161</td>\n",
       "      <td>264.069282</td>\n",
       "      <td>2002.917596</td>\n",
       "    </tr>\n",
       "    <tr>\n",
       "      <th>std</th>\n",
       "      <td>3.972567</td>\n",
       "      <td>1.240976</td>\n",
       "      <td>3.818617</td>\n",
       "      <td>733.116493</td>\n",
       "      <td>26014.728304</td>\n",
       "    </tr>\n",
       "    <tr>\n",
       "      <th>min</th>\n",
       "      <td>1989.000000</td>\n",
       "      <td>1.000000</td>\n",
       "      <td>0.003600</td>\n",
       "      <td>1.350000</td>\n",
       "      <td>0.090700</td>\n",
       "    </tr>\n",
       "    <tr>\n",
       "      <th>25%</th>\n",
       "      <td>2007.000000</td>\n",
       "      <td>1.000000</td>\n",
       "      <td>0.229000</td>\n",
       "      <td>32.560000</td>\n",
       "      <td>5.442575</td>\n",
       "    </tr>\n",
       "    <tr>\n",
       "      <th>50%</th>\n",
       "      <td>2010.000000</td>\n",
       "      <td>1.000000</td>\n",
       "      <td>1.260000</td>\n",
       "      <td>55.250000</td>\n",
       "      <td>39.979500</td>\n",
       "    </tr>\n",
       "    <tr>\n",
       "      <th>75%</th>\n",
       "      <td>2012.000000</td>\n",
       "      <td>2.000000</td>\n",
       "      <td>3.040000</td>\n",
       "      <td>178.500000</td>\n",
       "      <td>526.005000</td>\n",
       "    </tr>\n",
       "    <tr>\n",
       "      <th>max</th>\n",
       "      <td>2014.000000</td>\n",
       "      <td>7.000000</td>\n",
       "      <td>25.000000</td>\n",
       "      <td>8500.000000</td>\n",
       "      <td>730000.000000</td>\n",
       "    </tr>\n",
       "  </tbody>\n",
       "</table>\n",
       "</div>"
      ],
      "text/plain": [
       "              发现时间         发现数量        行星质量         距地距离           轨道周期\n",
       "count  1035.000000  1035.000000  513.000000   808.000000     992.000000\n",
       "mean   2009.070531     1.785507    2.638161   264.069282    2002.917596\n",
       "std       3.972567     1.240976    3.818617   733.116493   26014.728304\n",
       "min    1989.000000     1.000000    0.003600     1.350000       0.090700\n",
       "25%    2007.000000     1.000000    0.229000    32.560000       5.442575\n",
       "50%    2010.000000     1.000000    1.260000    55.250000      39.979500\n",
       "75%    2012.000000     2.000000    3.040000   178.500000     526.005000\n",
       "max    2014.000000     7.000000   25.000000  8500.000000  730000.000000"
      ]
     },
     "execution_count": 42,
     "metadata": {},
     "output_type": "execute_result"
    }
   ],
   "source": [
    "df = pd. read_csv( 'resoures//行星数据.csv', index_col=0, encoding='gbk' ) # 读取csv文件，index_col=0表示第一列作为索引，encoding='gbk'表示编码格式为gbk\n",
    "print(df.max()) # 显示最大值\n",
    "print(df.min()) # 显示最小值\n",
    "print(df.sum()) # 显示总和\n",
    "df.head() # 显示前5行数据\n",
    "\n",
    "df.describe()"
   ]
  },
  {
   "cell_type": "markdown",
   "metadata": {},
   "source": [
    "##### 2. 数据透视"
   ]
  },
  {
   "cell_type": "code",
   "execution_count": 44,
   "metadata": {},
   "outputs": [
    {
     "name": "stdout",
     "output_type": "stream",
     "text": [
      "    性别    年龄 船舱等级       费用  是否生还\n",
      "0    男  22.0   三等   7.2500     0\n",
      "1    女  38.0   一等  71.2833     1\n",
      "2    女  26.0   三等   7.9250     1\n",
      "3    女  35.0   一等  53.1000     1\n",
      "4    男  35.0   三等   8.0500     0\n",
      "..  ..   ...  ...      ...   ...\n",
      "886  男  27.0   二等  13.0000     0\n",
      "887  女  19.0   一等  30.0000     1\n",
      "888  女   NaN   三等  23.4500     0\n",
      "889  男  26.0   一等  30.0000     1\n",
      "890  男  32.0   三等   7.7500     0\n",
      "\n",
      "[891 rows x 5 columns]\n",
      "        是否生还\n",
      "性别          \n",
      "女   0.742038\n",
      "男   0.188908\n",
      "船舱等级        一等        三等        二等\n",
      "性别                                \n",
      "女     0.968085  0.500000  0.921053\n",
      "男     0.368852  0.135447  0.157407\n"
     ]
    },
    {
     "data": {
      "text/html": [
       "<div>\n",
       "<style scoped>\n",
       "    .dataframe tbody tr th:only-of-type {\n",
       "        vertical-align: middle;\n",
       "    }\n",
       "\n",
       "    .dataframe tbody tr th {\n",
       "        vertical-align: top;\n",
       "    }\n",
       "\n",
       "    .dataframe thead th {\n",
       "        text-align: right;\n",
       "    }\n",
       "</style>\n",
       "<table border=\"1\" class=\"dataframe\">\n",
       "  <thead>\n",
       "    <tr style=\"text-align: right;\">\n",
       "      <th></th>\n",
       "      <th>船舱等级</th>\n",
       "      <th>一等</th>\n",
       "      <th>三等</th>\n",
       "      <th>二等</th>\n",
       "    </tr>\n",
       "    <tr>\n",
       "      <th>性别</th>\n",
       "      <th>年龄</th>\n",
       "      <th></th>\n",
       "      <th></th>\n",
       "      <th></th>\n",
       "    </tr>\n",
       "  </thead>\n",
       "  <tbody>\n",
       "    <tr>\n",
       "      <th rowspan=\"2\" valign=\"top\">女</th>\n",
       "      <th>(0, 18]</th>\n",
       "      <td>0.909091</td>\n",
       "      <td>0.511628</td>\n",
       "      <td>1.000000</td>\n",
       "    </tr>\n",
       "    <tr>\n",
       "      <th>(18, 120]</th>\n",
       "      <td>0.972973</td>\n",
       "      <td>0.423729</td>\n",
       "      <td>0.900000</td>\n",
       "    </tr>\n",
       "    <tr>\n",
       "      <th rowspan=\"2\" valign=\"top\">男</th>\n",
       "      <th>(0, 18]</th>\n",
       "      <td>0.800000</td>\n",
       "      <td>0.215686</td>\n",
       "      <td>0.600000</td>\n",
       "    </tr>\n",
       "    <tr>\n",
       "      <th>(18, 120]</th>\n",
       "      <td>0.375000</td>\n",
       "      <td>0.133663</td>\n",
       "      <td>0.071429</td>\n",
       "    </tr>\n",
       "  </tbody>\n",
       "</table>\n",
       "</div>"
      ],
      "text/plain": [
       "船舱等级                一等        三等        二等\n",
       "性别 年龄                                     \n",
       "女  (0, 18]    0.909091  0.511628  1.000000\n",
       "   (18, 120]  0.972973  0.423729  0.900000\n",
       "男  (0, 18]    0.800000  0.215686  0.600000\n",
       "   (18, 120]  0.375000  0.133663  0.071429"
      ]
     },
     "execution_count": 44,
     "metadata": {},
     "output_type": "execute_result"
    }
   ],
   "source": [
    "df = pd. read_csv( 'resoures//泰坦尼克.csv', index_col=0)\n",
    "print(df) # 读取csv文件，index_col=0表示第一列作为索引\n",
    "print(df.pivot_table( '是否生还', index='性别')) # 透视表，行索引为性别，列索引为是否生还，值为计数\n",
    "print(df.pivot_table( '是否生还', index='性别', columns='船舱等级')) # 透视表，行索引为性别，列索引为船舱等级，值为计数\n",
    "#  三个特征：性别、船舱等级、年龄\n",
    "age = pd.cut( df['年龄'], [0,18, 120] ) # 以 18 岁为分水岭\n",
    "df.pivot_table( '是否生还', index= ['性别', age], columns='船舱等级') # 透视表，行索引为性别和年龄，列索引为船舱等级，值为计数"
   ]
  }
 ],
 "metadata": {
  "kernelspec": {
   "display_name": "DRL_env",
   "language": "python",
   "name": "python3"
  },
  "language_info": {
   "codemirror_mode": {
    "name": "ipython",
    "version": 3
   },
   "file_extension": ".py",
   "mimetype": "text/x-python",
   "name": "python",
   "nbconvert_exporter": "python",
   "pygments_lexer": "ipython3",
   "version": "3.8.20"
  }
 },
 "nbformat": 4,
 "nbformat_minor": 2
}
