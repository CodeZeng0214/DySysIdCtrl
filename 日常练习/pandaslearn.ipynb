{
 "cells": [
  {
   "cell_type": "markdown",
   "metadata": {},
   "source": [
    "### Pandas标签库学习 [Python深度学习：Pandas标签库](https://www.bilibili.com/video/BV1hP41197we/?share_source=copy_web&vd_source=43c4eb4ed8da935694eaeb473fd0f6cb)"
   ]
  },
  {
   "cell_type": "code",
   "execution_count": 1,
   "metadata": {},
   "outputs": [],
   "source": [
    "import pandas as pd\n",
    "import numpy as np"
   ]
  },
  {
   "cell_type": "markdown",
   "metadata": {},
   "source": [
    "#### 一、对象的创建"
   ]
  },
  {
   "cell_type": "markdown",
   "metadata": {},
   "source": [
    "##### 1. pandas中用series的方式将字典转换为数据，也可以直接定义键与值，值可以是列表、数组、张量"
   ]
  },
  {
   "cell_type": "code",
   "execution_count": 8,
   "metadata": {},
   "outputs": [
    {
     "name": "stdout",
     "output_type": "stream",
     "text": [
      "[1, 2, 3]\n",
      "0    1\n",
      "1    2\n",
      "2    3\n",
      "dtype: int32\n",
      "a    1\n",
      "b    2\n",
      "c    3\n",
      "dtype: int32\n",
      "Index(['a', 'b', 'c'], dtype='object')\n",
      "[1 2 3] <class 'numpy.ndarray'>\n"
     ]
    }
   ],
   "source": [
    "l_v = [1, 2, 3]\n",
    "print(l_v)\n",
    "print(pd.Series(np.array(l_v))) # 默认的键是0,1,2,3,4....\n",
    "j_v = ['a', 'b', 'c']\n",
    "p_v = pd.Series(np.array(l_v), index=j_v) # 自定义键\n",
    "print(p_v) \n",
    "print(p_v.index) # 查看索引\n",
    "print(p_v.values, type(p_v.values)) # 查看值,类型是ndarray，即pandas库基于numpy"
   ]
  },
  {
   "cell_type": "markdown",
   "metadata": {},
   "source": [
    "##### 2. 二维对象的创建，相当于一列一列的数据拼接"
   ]
  },
  {
   "cell_type": "code",
   "execution_count": null,
   "metadata": {},
   "outputs": [
    {
     "name": "stdout",
     "output_type": "stream",
     "text": [
      "x    1\n",
      "y    2\n",
      "a    3\n",
      "dtype: int64\n",
      "   cs1  cs2\n",
      "a  1.0  3.0\n",
      "b  2.0  NaN\n",
      "c  3.0  NaN\n",
      "x  NaN  1.0\n",
      "y  NaN  2.0\n",
      "[['24' '男']\n",
      " ['21' '女']\n",
      " ['32' '男']]\n",
      "   年龄 性别\n",
      "a  24  男\n",
      "b  21  女\n",
      "c  32  男\n"
     ]
    }
   ],
   "source": [
    "p_v2 = pd.Series({'x': 1, 'y': 2, 'a': 3})\n",
    "print(p_v2)\n",
    "p_vv = pd.DataFrame({'cs1': p_v, 'cs2': p_v2})\n",
    "print(p_vv) # 直接拼接，取并集，缺失值为NaN\n",
    "v = np.array([[24, 21, 32], ['男', '女', '男']]).T # v是一个二维数组，元素类型是str\n",
    "print(v)\n",
    "print(pd.DataFrame(v,index = ['a', 'b', 'c'], columns=['年龄','性别'])) # 参数分别是值，行索引和列索引"
   ]
  },
  {
   "cell_type": "markdown",
   "metadata": {},
   "source": [
    "#### 二、对象的索引"
   ]
  },
  {
   "cell_type": "markdown",
   "metadata": {},
   "source": [
    "##### 1. pandas索引分为显式索引和隐式索引,隐式索引即默认从0开始的整数索引，显式索引即用户自定义的索引"
   ]
  },
  {
   "cell_type": "code",
   "execution_count": 29,
   "metadata": {},
   "outputs": [
    {
     "name": "stdout",
     "output_type": "stream",
     "text": [
      "男    24\n",
      "女    21\n",
      "男    32\n",
      "dtype: int64\n",
      "21\n",
      "24\n",
      "男    24\n",
      "男    32\n",
      "dtype: int64\n",
      "男    24\n",
      "女    21\n",
      "dtype: int64\n",
      "男    24\n",
      "男    32\n",
      "dtype: int64\n",
      "男    24\n",
      "男    32\n",
      "dtype: int64\n",
      "24\n"
     ]
    }
   ],
   "source": [
    "v = [24, 21, 32]\n",
    "k = ['男', '女', '男']\n",
    "sr = pd.Series(v, index=k) # 直接用列表创建Series\n",
    "print(sr)\n",
    "print(sr['女']) # 显式索引\n",
    "print(sr[0]) # 隐式索引\n",
    "print(sr['男']) # 显式索引\n",
    "print(sr[0:2]) # 切片索引，包含0，不包含2\n",
    "print(sr[[0,2]]) # 花式索引\n",
    "## 如果自定义索引和隐式索引重合，可以使用索引器\n",
    "print(sr.loc['男']) # 显式索引器\n",
    "print(sr.iloc[0]) # 隐式索引器"
   ]
  },
  {
   "cell_type": "markdown",
   "metadata": {},
   "source": [
    "##### 2. 索引也是一个引用"
   ]
  },
  {
   "cell_type": "code",
   "execution_count": null,
   "metadata": {},
   "outputs": [
    {
     "name": "stdout",
     "output_type": "stream",
     "text": [
      "男    24\n",
      "女    21\n",
      "dtype: int64\n",
      "男    100\n",
      "女     21\n",
      "dtype: int64\n"
     ]
    }
   ],
   "source": [
    "sr_t = sr[0:2] # 切片索引，包含0，不包含2\n",
    "print(sr_t) # 结果是一个新的Series对象\n",
    "sr_t[0] = 100 # 修改sr_t的值\n",
    "print(sr_t) # sr_t的值已经改变了"
   ]
  },
  {
   "cell_type": "markdown",
   "metadata": {},
   "source": [
    "##### 3. 多维pandas对象在访问时必需使用索引器"
   ]
  },
  {
   "cell_type": "code",
   "execution_count": null,
   "metadata": {},
   "outputs": [
    {
     "name": "stdout",
     "output_type": "stream",
     "text": [
      "   年龄 性别\n",
      "a  24  男\n",
      "b  21  女\n",
      "c  32  男\n",
      "年龄    24\n",
      "性别     男\n",
      "Name: a, dtype: object\n",
      "年龄    24\n",
      "性别     男\n",
      "Name: a, dtype: object\n",
      "男\n"
     ]
    }
   ],
   "source": [
    "v = np.array([[24, 21, 32], ['男', '女', '男']]).T # v是一个二维数组，元素类型是str\n",
    "df = pd.DataFrame(v,index = ['a', 'b', 'c'], columns=['年龄','性别']) # 参数分别是值，行索引和列索引\n",
    "print(df)\n",
    "print(df.loc['a', :]) # 显式索引器，返回行索引为'a'的行\n",
    "print(df.iloc[0, :]) # 隐式索引器，返回第一行\n",
    "print(df.iloc[0, :]) # 隐式索引器，返回第一行\n",
    "print(df.iloc[0]) # 隐式索引器，返回第一行\n",
    "print(df.loc['a', '性别']) # 显式索引器，返回行索引为'a'，列索引为'性别'的值"
   ]
  },
  {
   "cell_type": "markdown",
   "metadata": {},
   "source": [
    "#### 三、对象的变形"
   ]
  },
  {
   "cell_type": "markdown",
   "metadata": {},
   "source": [
    "##### 1. 转置与翻转"
   ]
  },
  {
   "cell_type": "code",
   "execution_count": 38,
   "metadata": {},
   "outputs": [
    {
     "name": "stdout",
     "output_type": "stream",
     "text": [
      "     a   b   c\n",
      "年龄  24  21  32\n",
      "性别   男   女   男\n",
      "   年龄 性别\n",
      "a  24  男\n",
      "b  21  女\n",
      "c  32  男\n",
      "     c   b   a\n",
      "年龄  32  21  24\n",
      "性别   男   女   男\n",
      "     a   b   c\n",
      "性别   男   女   男\n",
      "年龄  24  21  32\n"
     ]
    }
   ],
   "source": [
    "v = np.array([[24, 21, 32], ['男', '女', '男']]).T # v是一个二维数组，元素类型是str\n",
    "df = (pd.DataFrame(v,index = ['a', 'b', 'c'], columns=['年龄','性别'])).T # 参数分别是值，行索引和列索引\n",
    "print(df)\n",
    "print(df.T) # 转置\n",
    "# 左右翻转\n",
    "print(df.iloc[:, ::-1]) # 左右翻转\n",
    "# 上下翻转\n",
    "print(df.iloc[::-1, :]) # 上下翻转"
   ]
  },
  {
   "cell_type": "markdown",
   "metadata": {},
   "source": [
    "##### 2. 对象的拼接"
   ]
  },
  {
   "cell_type": "code",
   "execution_count": null,
   "metadata": {},
   "outputs": [
    {
     "name": "stdout",
     "output_type": "stream",
     "text": [
      "     年龄 性别\n",
      "1 号  10  女\n",
      "2 号  20  男\n",
      "3 号  30  男\n",
      "4 号  40  女\n"
     ]
    }
   ],
   "source": [
    "#  数组法创建 sr\n",
    "i = [ '1 号', '2 号', '3 号', '4 号' ] \n",
    "v1 = [ 10, 20, 30, 40 ]\n",
    "v2 = [ '女', '男', '男', '女' ] \n",
    "v3 = [ 1, 2, 3, 4 ]\n",
    "sr1 = pd.Series( v1, index=i )\n",
    "sr2 = pd.Series( v2, index=i )\n",
    "sr3 = pd.Series( v3, index=i ) \n",
    "#   字典法创建 df\n",
    "df = pd.DataFrame( { '年龄':sr1, '性别':sr2 } ) \n",
    "print(df)\n",
    "#  把 df['年龄']分离成 sr4 \n",
    "sr4 = df['年龄']\n",
    "print(sr4) # 结果是一个Series对象"
   ]
  },
  {
   "cell_type": "markdown",
   "metadata": {},
   "source": [
    "##### 3. 对象的合并"
   ]
  },
  {
   "cell_type": "code",
   "execution_count": null,
   "metadata": {},
   "outputs": [
    {
     "name": "stdout",
     "output_type": "stream",
     "text": [
      "1 号    10\n",
      "2 号    20\n",
      "3 号    30\n",
      "4 号    40\n",
      "4 号    40\n",
      "5 号    50\n",
      "6 号    60\n",
      "dtype: int64\n",
      "     年龄 性别\n",
      "1 号  10  女\n",
      "2 号  20  男\n",
      "3 号  30  男\n",
      "     年龄 性别  牌照\n",
      "1 号  10  女   1\n",
      "2 号  20  男   2\n",
      "3 号  30  男   3\n",
      "     年龄 性别  牌照\n",
      "1 号  10  女   1\n",
      "2 号  20  男   2\n",
      "3 号  30  男   3\n",
      "4 号  40  女   4\n",
      "     年龄 性别\n",
      "1 号  10  女\n",
      "2 号  20  男\n",
      "3 号  30  男\n",
      "4 号  40  女\n",
      "     牌照 ikun\n",
      "1 号   1    是\n",
      "2 号   2    是\n",
      "3 号   3    是\n",
      "4 号   4    否\n",
      "     年龄 性别  牌照 ikun\n",
      "5 号  50  男   5    是\n",
      "6 号  60  女   6    是\n"
     ]
    }
   ],
   "source": [
    "v1 = [10, 20, 30, 40]\n",
    "v2 = [40, 50, 60]\n",
    "k1 = [ '1 号', '2 号', '3 号', '4 号' ] \n",
    "k2 = [ '4 号', '5 号', '6 号' ]\n",
    "sr1 = pd.Series( v1, index= k1 )\n",
    "sr2 = pd.Series( v2, index= k2 )\n",
    "print(pd.concat([sr1, sr2])) # Pandas 对象的 属性，放弃了集合与字典索引中“不可重复 ”的特性\n",
    "\n",
    "v1 = [ 10, 20, 30]\n",
    "v2 = [ '女', '男', '男']\n",
    "sr1 = pd.Series( v1, index=[ '1 号', '2 号', '3 号'] )\n",
    "sr2 = pd.Series( v2, index=[ '1 号', '2 号', '3 号'] ) \n",
    "df = pd.DataFrame( { '年龄':sr1, '性别':sr2 } ) \n",
    "print(df)\n",
    "df[ '牌照'] = [1, 2, 3] # 添加新列\n",
    "print(df) \n",
    "df.loc[ '4 号'] = [40, '女', 4]\n",
    "print(df) # 添加新行\n",
    "\n",
    "# 二维对象合并\n",
    "v1 = [ [10, '女'], [20, '男'], [30, '男'], [40, '女'] ] \n",
    "v2 = [ [1, '是'], [2, '是'], [3, '是'], [4, '否'] ]\n",
    "v3 = [ [50, '男', 5, '是'], [60, '女', 6, '是'] ] \n",
    "i1 = [ '1 号', '2 号', '3 号', '4 号' ]\n",
    "i2 = [ '1 号', '2 号', '3 号', '4 号' ]\n",
    "i3 = [ '5 号', '6 号' ]\n",
    "c1 = [ '年龄', '性别' ]\n",
    "c2 = [ '牌照', 'ikun' ]\n",
    "c3 = [ '年龄', '性别', '牌照', 'ikun' ]\n",
    "df1 = pd.DataFrame( v1, index=i1, columns=c1 )\n",
    "df2 = pd.DataFrame( v2, index=i2, columns=c2 )\n",
    "df3 = pd.DataFrame( v3, index=i3, columns=c3 )\n",
    "print(df1)\n",
    "print(df2)\n",
    "print(df3)"
   ]
  },
  {
   "cell_type": "markdown",
   "metadata": {},
   "source": [
    "#### 四、对象的运算"
   ]
  },
  {
   "cell_type": "markdown",
   "metadata": {},
   "source": [
    "##### 1. 对象与系数之间的运算"
   ]
  },
  {
   "cell_type": "code",
   "execution_count": null,
   "metadata": {},
   "outputs": [],
   "source": []
  }
 ],
 "metadata": {
  "kernelspec": {
   "display_name": "DRL_env",
   "language": "python",
   "name": "python3"
  },
  "language_info": {
   "codemirror_mode": {
    "name": "ipython",
    "version": 3
   },
   "file_extension": ".py",
   "mimetype": "text/x-python",
   "name": "python",
   "nbconvert_exporter": "python",
   "pygments_lexer": "ipython3",
   "version": "3.8.20"
  }
 },
 "nbformat": 4,
 "nbformat_minor": 2
}
