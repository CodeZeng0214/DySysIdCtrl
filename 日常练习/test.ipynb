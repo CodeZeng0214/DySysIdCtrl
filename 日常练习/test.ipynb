{
 "cells": [
  {
   "cell_type": "markdown",
   "metadata": {},
   "source": [
    "# pytorch环境测试"
   ]
  },
  {
   "cell_type": "code",
   "execution_count": 1,
   "metadata": {},
   "outputs": [
    {
     "name": "stdout",
     "output_type": "stream",
     "text": [
      "True\n",
      "NVIDIA GeForce GTX 1660 Ti\n"
     ]
    }
   ],
   "source": [
    "import torch\n",
    "print(torch.cuda.is_available())  # 检查 CUDA 是否可用\n",
    "print(torch.cuda.get_device_name(0))  # 查看 CUDA 设备名称"
   ]
  },
  {
   "cell_type": "markdown",
   "metadata": {},
   "source": [
    "# gym包测试"
   ]
  },
  {
   "cell_type": "code",
   "execution_count": 11,
   "metadata": {},
   "outputs": [
    {
     "name": "stdout",
     "output_type": "stream",
     "text": [
      "(array([ 0.01892864, -0.01862025,  0.00660771, -0.00964111], dtype=float32), {})\n",
      "[ 0.01855623  0.17640632  0.00641488 -0.30023193]\n",
      "[ 0.02208436 -0.01880648  0.00041024 -0.0055328 ]\n",
      "[ 0.02170823  0.17630959  0.00029959 -0.29808626]\n",
      "[ 0.02523442 -0.01881663 -0.00566214 -0.00530886]\n",
      "[ 0.02485809 -0.21385692 -0.00576831  0.2855822 ]\n",
      "[ 2.0580947e-02 -4.0889615e-01 -5.6668996e-05  5.7644027e-01]\n",
      "[ 0.01240303 -0.6040173   0.01147214  0.8691054 ]\n",
      "[ 3.2267967e-04 -7.9929340e-01  2.8854245e-02  1.1653731e+00]\n",
      "[-0.01566319 -0.9947788   0.0521617   1.466961  ]\n",
      "[-0.03555876 -0.8003328   0.08150093  1.1910173 ]\n",
      "[-0.05156542 -0.6063559   0.10532127  0.92495257]\n",
      "[-0.06369254 -0.8027307   0.12382033  1.2487897 ]\n",
      "[-0.07974716 -0.60939425  0.14879611  0.9973156 ]\n",
      "[-0.09193504 -0.80615854  0.16874243  1.3327855 ]\n",
      "[-0.10805821 -1.0029576   0.19539814  1.6731665 ]\n",
      "Finished\n"
     ]
    }
   ],
   "source": [
    "import gym\n",
    "\n",
    "env = gym.make('CartPole-v1')\n",
    "\n",
    "state = env.reset()\n",
    "\n",
    "for t in range(100):\n",
    "    env.render()\n",
    "    print(state)\n",
    "    \n",
    "    action = env.action_space.sample()\n",
    "    state, reward, done, info, _ = env.step(action)\n",
    "    \n",
    "    if done: \n",
    "        print(\"Finished\")\n",
    "        break\n",
    "    \n",
    "env.close()"
   ]
  }
 ],
 "metadata": {
  "kernelspec": {
   "display_name": "DRL_env",
   "language": "python",
   "name": "python3"
  },
  "language_info": {
   "codemirror_mode": {
    "name": "ipython",
    "version": 3
   },
   "file_extension": ".py",
   "mimetype": "text/x-python",
   "name": "python",
   "nbconvert_exporter": "python",
   "pygments_lexer": "ipython3",
   "version": "3.8.20"
  }
 },
 "nbformat": 4,
 "nbformat_minor": 2
}
