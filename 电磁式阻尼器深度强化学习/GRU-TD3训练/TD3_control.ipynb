{
 "cells": [
  {
   "cell_type": "markdown",
   "id": "f31c9495",
   "metadata": {},
   "source": [
    "# TD3 电磁式阻尼器振动控制训练\n",
    "\n",
    "本notebook用于训练基于全连接网络架构的TD3算法，用于电磁式阻尼器的振动控制，\n",
    "\n",
    "## 主要特点\n",
    "- 使用TD3（Twin Delayed Deep Deterministic Policy Gradient）算法\n",
    "- 针对电磁式阻尼器系统的振动控制优化"
   ]
  },
  {
   "cell_type": "markdown",
   "id": "738f1b8d",
   "metadata": {},
   "source": [
    "### 训练参数"
   ]
  },
  {
   "cell_type": "code",
   "execution_count": 1,
   "id": "8194b134",
   "metadata": {},
   "outputs": [],
   "source": [
    "# 参数设置\n",
    "# 环境参数\n",
    "ENV_PARAMS = {\n",
    "    'state0':[0.0, 0.0, 0.0, 0.0, 0.01, 0.0], # 初始状态\n",
    "    # 观测状态列表\n",
    "    # 0: 吸振器位移 (x1)\n",
    "    # 1: 吸振器速度 (v1)\n",
    "    # 2: 吸振器加速度 (a1)\n",
    "    # 3: 平台位移 (x2)\n",
    "    # 4: 平台速度 (v2)\n",
    "    # 5: 平台加速度 (a2)\n",
    "    'observation_indices': [0,2,3,5],  # 观测状态索引\n",
    "    'x1_limit': 0.001,      # x1 位移限制\n",
    "    'seq_len': 10,              # GRU序列长度\n",
    "    'use_time_input': False,    # 无时间感知\n",
    "    'use_time_noise': False,    # 不使用时间噪声\n",
    "    'time_noise_std': 0.1       # 时间噪声标准差\n",
    "}\n",
    "\n",
    "# TD3参数\n",
    "TD3_PARAMS = {\n",
    "    'state_dim': len(ENV_PARAMS['observation_indices']),  # 观测维度（平台位移）\n",
    "    'hidden_dim': 128,          # 隐藏层维度\n",
    "    'action_bound': 5.0,        # 动作范围\n",
    "    'actor_lr': 1e-4,           # Actor学习率\n",
    "    'critic_lr': 1e-3,          # Critic学习率\n",
    "    'gamma': 0.99,              # 折扣因子\n",
    "    'tau': 0.005,               # 软更新参数\n",
    "    'policy_noise': 0.2,        # 策略噪声\n",
    "    'noise_clip': 0.5,          # 噪声裁剪\n",
    "    'policy_freq': 2,           # 策略更新频率\n",
    "    'sigma': 0.1,               # 探索噪声\n",
    "    'clip_grad': True           # 是否裁剪梯度\n",
    "}\n",
    "\n",
    "# 训练参数\n",
    "TRAIN_PARAMS = {    \n",
    "    'n_episodes': 100,           # 训练轮次\n",
    "    'capacity': int(1e6),       # 经验回放池容量\n",
    "    'min_buffer_size': int(1e4),# 最小缓冲区大小\n",
    "    'print_interval': 1,        # 打印间隔\n",
    "    'save_interval': 4,         # 保存间隔\n",
    "    'batch_size': 64,           # 批次大小\n",
    "    }"
   ]
  },
  {
   "cell_type": "markdown",
   "id": "90f27344",
   "metadata": {},
   "source": [
    "### 仿真环境搭建"
   ]
  },
  {
   "cell_type": "code",
   "execution_count": 2,
   "id": "f9096d6f",
   "metadata": {},
   "outputs": [
    {
     "name": "stdout",
     "output_type": "stream",
     "text": [
      "使用设备: cuda\n"
     ]
    }
   ],
   "source": [
    "train_model = True\n",
    "\n",
    "import numpy as np\n",
    "import matplotlib.pyplot as plt\n",
    "import torch\n",
    "import logging\n",
    "from datetime import datetime\n",
    "import os\n",
    "\n",
    "# 导入自定义模块\n",
    "from TD3 import TD3Agent\n",
    "from nn import ReplayBuffer\n",
    "from env import ElectromagneticDamperEnv\n",
    "from train import train_td3\n",
    "from af import Datasets, STATES_NAME\n",
    "\n",
    "# 设置中文字体和GPU\n",
    "plt.rcParams['font.sans-serif'] = ['SimHei']\n",
    "plt.rcParams['axes.unicode_minus'] = False\n",
    "\n",
    "# 检查GPU\n",
    "device = torch.device(\"cuda\" if torch.cuda.is_available() else \"cpu\")\n",
    "\n",
    "# # 设置随机种子\n",
    "# np.random.seed(42)\n",
    "# torch.manual_seed(42)\n",
    "print(f\"使用设备: {device}\")"
   ]
  },
  {
   "cell_type": "code",
   "execution_count": 3,
   "id": "987ceaa7",
   "metadata": {},
   "outputs": [
    {
     "name": "stdout",
     "output_type": "stream",
     "text": [
      "日志文件: ./savedata\\8_15晚上训练\\training_log_20250815_212729.log\n"
     ]
    }
   ],
   "source": [
    "# 日志文件\n",
    "current_time = datetime.now().strftime(\"%Y%m%d_%H%M%S\")\n",
    "# 创建保存模型的基础目录\n",
    "base_dir = \"./savedata\"\n",
    "os.makedirs(base_dir, exist_ok=True)\n",
    "\n",
    "# 确认项目文件夹\n",
    "project_name = input(\"请输入加载/创建项目的名称 (父目录: ./savedata) \").strip()\n",
    "project_path = os.path.join(base_dir, project_name)\n",
    "\n",
    "# 检查项目文件夹是否存在\n",
    "is_new_project = not os.path.exists(project_path)\n",
    "os.makedirs(project_path, exist_ok=True)\n",
    "\n",
    "# 创建检查点保存目录\n",
    "save_checkpoint_path = os.path.join(project_path, \"checkpoints\")\n",
    "os.makedirs(save_checkpoint_path, exist_ok=True)\n",
    "\n",
    "# 创建绘图保存目录\n",
    "save_plot_path = os.path.join(project_path, \"plots\")\n",
    "os.makedirs(save_plot_path, exist_ok=True)\n",
    "\n",
    "# 创建日志文件\n",
    "if not is_new_project:\n",
    "    assign_log = input(\"是否指定日志文件？(路径/n) \").strip().lower()\n",
    "    if assign_log == 'n' or assign_log == '':\n",
    "        file_path = os.path.join(project_path, f'training_log_{current_time}.log')\n",
    "    else:\n",
    "        file_path = assign_log\n",
    "        if not os.path.exists(os.path.dirname(file_path)):\n",
    "            os.makedirs(os.path.dirname(file_path))\n",
    "else:\n",
    "    file_path = os.path.join(project_path, f'training_log_{current_time}.log')\n",
    "\n",
    "logging.basicConfig(filename=file_path,  # 如果指定日志文件，则使用指定路径，否则不写入文件\n",
    "                level=logging.INFO,          # 设置日志级别\n",
    "                format='%(asctime)s - %(levelname)s - %(message)s')  # 设置日志格式\n",
    "logging.info(\"## 当前时间: %s\", datetime.now())\n",
    "logging.info(\"项目保存目录: %s\", project_path)\n",
    "logging.info(\"日志文件: %s\", file_path)\n",
    "logging.info(\"训练模式: %s\", train_model)\n",
    "logging.info(\"模型保存目录: %s\", save_checkpoint_path)\n",
    "logging.info(\"绘图保存目录: %s\", save_plot_path)\n",
    "logging.info(\"使用设备: %s\", device)\n",
    "logging.info(\"环境参数: %s\", ENV_PARAMS)\n",
    "logging.info(\"算法参数: %s\", TD3_PARAMS)\n",
    "logging.info(\"训练参数: %s\", TRAIN_PARAMS)\n",
    "print(f\"日志文件: {file_path}\")"
   ]
  },
  {
   "cell_type": "code",
   "execution_count": 4,
   "id": "83112356",
   "metadata": {},
   "outputs": [],
   "source": [
    "# 系统参数\n",
    "m = 1.6    # 电磁吸振器质量\n",
    "M = 100.0  # 待减振对象质量\n",
    "k_m = 3000  # 电磁吸振器刚度\n",
    "k_M = 20000.0  # 平台刚度\n",
    "k_f = 45.0  # 电—力常数 N/A\n",
    "k_E = 0.0  # 作动器反电动势系数\n",
    "L = 0.0045  # 线圈的电感\n",
    "R_m = 5.0  # 线圈的电阻\n",
    "c_m = 1.0  # 电磁吸振器阻尼\n",
    "c_M = 5.0  # 平台阻尼\n",
    "\n",
    "# 状态空间矩阵（来自MATLAB文件）\n",
    "A = np.array([\n",
    "    [0.0,    1.0,       0.0,         0.0],\n",
    "    [-k_m/m, -c_m/m,    k_m/m,       c_m/m],\n",
    "    [0.0,    0.0,       0.0,         1.0],\n",
    "    [k_m/M,  c_m/M,     -(k_m+k_M)/M, -(c_m+c_M)/M]\n",
    "])\n",
    "\n",
    "B = np.array([[0.0], [k_f/m], [0.0], [-k_f/M]])\n",
    "\n",
    "C = np.array([\n",
    "    [-k_m/m, -c_m/m,    k_m/m,       c_m/m],\n",
    "    [k_m/M,  c_m/M,     -(k_m+k_M)/M, -(c_m+c_M)/M]\n",
    "])\n",
    "\n",
    "D = np.array([[+k_f/m], [-k_f/M]])\n",
    "\n",
    "E = np.array([\n",
    "    [0.0, 0.0, 0.0, c_M/M],\n",
    "    [0.0, 0.0, 0.0, k_M/M]\n",
    "]).T\n",
    "logging.info(\"系统参数: m=%.2f, M=%.2f, k_m=%.2f, k_M=%.2f, k_f=%.2f, k_E=%.2f, L=%.4f, R_m=%.2f, c_m=%.2f, c_M=%.2f\", \n",
    "             m, M, k_m, k_M, k_f, k_E, L, R_m, c_m, c_M)"
   ]
  },
  {
   "cell_type": "code",
   "execution_count": 5,
   "id": "f85d2eab",
   "metadata": {},
   "outputs": [],
   "source": [
    "# 定义扰动函数和奖励函数\n",
    "import inspect\n",
    "\n",
    "from fx import z_zero\n",
    "z_func = z_zero\n",
    "from fx import tolerance_if_rf\n",
    "r_func = tolerance_if_rf()\n",
    "\n",
    "if train_model: logging.info(\"正弦扰动函数已定义: %s\", inspect.getsource(z_func))\n",
    "if train_model: logging.info(\"奖励函数已定义: %s\", inspect.getsource(r_func))"
   ]
  },
  {
   "cell_type": "code",
   "execution_count": 6,
   "id": "7ff0ec5d",
   "metadata": {},
   "outputs": [
    {
     "name": "stdout",
     "output_type": "stream",
     "text": [
      "环境初始化完成，观测维度: ['吸振器位移 (x1)', '吸振器加速度 (a1)', '平台位移 (x2)', '平台加速度 (a2)']\n"
     ]
    }
   ],
   "source": [
    "# 初始化环境\n",
    "env = ElectromagneticDamperEnv(\n",
    "    A=A, B=B, C=C, D=D, E=E,\n",
    "    Ts=0.001,  # 采样时间\n",
    "    T=10.0,    # 仿真时长\n",
    "    z_func=z_func,\n",
    "    r_func=r_func,\n",
    "    state0=np.array(ENV_PARAMS['state0']),  # 初始状态\n",
    "    obs_indices=ENV_PARAMS['observation_indices'],  # 观测状态索引\n",
    "    x1_limit=ENV_PARAMS['x1_limit'],  # x1 位移限制\n",
    "    use_time_input=ENV_PARAMS['use_time_input'],  # 是否使用时间作为输入\n",
    "    use_time_noise=ENV_PARAMS['use_time_noise'], # 是否使用时间噪声\n",
    "    time_noise_std=ENV_PARAMS['time_noise_std'] # 时间噪声标准差\n",
    ")\n",
    "\n",
    "logging.info(\"环境初始化完成，观测维度: %s\", [STATES_NAME[idx] for idx in ENV_PARAMS['observation_indices']])\n",
    "print(f\"环境初始化完成，观测维度: {[STATES_NAME[idx] for idx in ENV_PARAMS['observation_indices']]}\")"
   ]
  },
  {
   "cell_type": "code",
   "execution_count": null,
   "id": "0ea5d02b",
   "metadata": {},
   "outputs": [
    {
     "name": "stderr",
     "output_type": "stream",
     "text": [
      "仿真进度: 10001it [00:01, 8887.07it/s]                           \n"
     ]
    }
   ],
   "source": [
    "# 环境测试\n",
    "test_datasets = env.run_simulation()\n",
    "test_datasets.plot_episode_history(plot_state=[0, 3], plot_reward=True, save_path=save_plot_path, show=True)"
   ]
  },
  {
   "cell_type": "code",
   "execution_count": 8,
   "id": "57640261",
   "metadata": {},
   "outputs": [
    {
     "name": "stdout",
     "output_type": "stream",
     "text": [
      "TD3代理初始化完成\n",
      "经验回放池初始化完成\n"
     ]
    }
   ],
   "source": [
    "# 初始化GRU-TD3代理\n",
    "agent = TD3Agent(\n",
    "    state_dim=len(ENV_PARAMS['observation_indices']),  # 观测维度\n",
    "    action_dim=1,\n",
    "    hidden_dim=TD3_PARAMS['hidden_dim'],\n",
    "    action_bound=TD3_PARAMS['action_bound'],\n",
    "    actor_lr=TD3_PARAMS['actor_lr'],\n",
    "    critic_lr=TD3_PARAMS['critic_lr'],\n",
    "    gamma=TD3_PARAMS['gamma'],\n",
    "    tau=TD3_PARAMS['tau'],\n",
    "    policy_noise=TD3_PARAMS['policy_noise'],\n",
    "    noise_clip=TD3_PARAMS['noise_clip'],\n",
    "    policy_freq=TD3_PARAMS['policy_freq'],\n",
    "    sigma=TD3_PARAMS['sigma'],\n",
    "    clip_grad=TD3_PARAMS['clip_grad']\n",
    ")\n",
    "logging.info(\"TD3代理初始化完成\")\n",
    "print(\"TD3代理初始化完成\")\n",
    "\n",
    "# 写入网络架构到日志\n",
    "logging.info(f\"Actor网络架构:{agent.actor}\")\n",
    "logging.info(f\"Critic网络架构:{agent.critic1}\")\n",
    "\n",
    "# 初始化经验回放池\n",
    "replay_buffer = ReplayBuffer(\n",
    "    capacity=TRAIN_PARAMS['capacity'],  # 经验回放池容量\n",
    "    batch_size=TRAIN_PARAMS['batch_size'],\n",
    ")\n",
    "logging.info(\"经验回放池初始化完成\")\n",
    "print(\"经验回放池初始化完成\")"
   ]
  },
  {
   "cell_type": "markdown",
   "id": "b287cf76",
   "metadata": {},
   "source": [
    "### 训练"
   ]
  },
  {
   "cell_type": "code",
   "execution_count": 9,
   "id": "2aa74ad9",
   "metadata": {},
   "outputs": [
    {
     "name": "stdout",
     "output_type": "stream",
     "text": [
      "\n",
      "找到以下检查点文件:\n",
      "1. 0815_1943_ep35_checkpoint.pth\n",
      "2. 0815_1943_ep30_checkpoint.pth\n",
      "3. 0815_1943_ep25_checkpoint.pth\n",
      "4. 0815_1943_ep20_checkpoint.pth\n",
      "5. 0815_1943_ep15_checkpoint.pth\n",
      "6. 0815_1943_ep10_checkpoint.pth\n",
      "7. 0815_1943_ep5_checkpoint.pth\n"
     ]
    },
    {
     "name": "stderr",
     "output_type": "stream",
     "text": [
      "e:\\学习\\专题学习\\DySysIdCtrl\\电磁式阻尼器深度强化学习\\GRU-TD3训练\\af.py:104: FutureWarning: You are using `torch.load` with `weights_only=False` (the current default value), which uses the default pickle module implicitly. It is possible to construct malicious pickle data which will execute arbitrary code during unpickling (See https://github.com/pytorch/pytorch/blob/main/SECURITY.md#untrusted-models for more details). In a future release, the default value for `weights_only` will be flipped to `True`. This limits the functions that could be executed during unpickling. Arbitrary objects will no longer be allowed to be loaded via this mode unless they are explicitly allowlisted by the user via `torch.serialization.add_safe_globals`. We recommend you start setting `weights_only=True` for any use case where you don't have full control of the loaded file. Please open an issue on GitHub for any issues related to this experimental feature.\n",
      "  datasets = torch.load(checkpoint_path, map_location='cpu')\n"
     ]
    },
    {
     "name": "stdout",
     "output_type": "stream",
     "text": [
      "加载检查点: 0815_1943_ep35_checkpoint\n",
      "成功加载检查点: 0815_1943_ep35_checkpoint，当前回合: 35\n",
      "从第 35 轮开始训练\n"
     ]
    },
    {
     "name": "stderr",
     "output_type": "stream",
     "text": [
      "仿真进度: 10001it [00:01, 9140.42it/s]                           \n",
      "仿真进度: 10001it [00:09, 1044.26it/s]                          \n",
      "仿真进度: 10001it [00:20, 494.11it/s]                          \n",
      "仿真进度: 10001it [00:07, 1343.99it/s]                          \n",
      "仿真进度: 10001it [00:07, 1365.68it/s]                          \n",
      "仿真进度: 10001it [00:09, 1107.41it/s]                          \n",
      "训练轮次:  26%|██▌       | 17/65 [31:41<1:29:29, 111.86s/it]"
     ]
    },
    {
     "name": "stdout",
     "output_type": "stream",
     "text": [
      "训练被用户中断\n"
     ]
    },
    {
     "name": "stderr",
     "output_type": "stream",
     "text": [
      "\n"
     ]
    }
   ],
   "source": [
    "# 开始训练\n",
    "logging.info(\"开始TD3训练（全连接版本）\")\n",
    "train_datasets = Datasets()\n",
    "\n",
    "# 加载先前训练的模型（如果存在）\n",
    "start_episode = train_datasets.load_datasets(agent, save_checkpoint_path)\n",
    "logging.info(f\"从第 {start_episode} 轮开始训练\")\n",
    "print(f\"从第 {start_episode} 轮开始训练\")\n",
    "\n",
    "try:\n",
    "    # 执行训练\n",
    "    train_datasets = train_td3(\n",
    "        env=env,\n",
    "        agent=agent,\n",
    "        replay_buffer=replay_buffer,\n",
    "        n_episodes=TRAIN_PARAMS['n_episodes'], # 训练轮次\n",
    "        min_buffer_size=TRAIN_PARAMS['min_buffer_size'], # 最小缓冲池大小\n",
    "        print_interval=TRAIN_PARAMS['print_interval'], # 打印间隔\n",
    "        save_interval=TRAIN_PARAMS['save_interval'], # 保存间隔\n",
    "        project_path=project_path,\n",
    "        save_checkpoint_path=save_checkpoint_path,\n",
    "        save_plot_path=save_plot_path,\n",
    "        rand_prob=0.05,  # 5%的随机动作概率\n",
    "        train_datasets=train_datasets  # 数据集对象\n",
    "    )\n",
    "    \n",
    "    print(\"训练完成！\")\n",
    "    logging.info(\"训练完成！\")\n",
    "    \n",
    "except KeyboardInterrupt:\n",
    "    print(\"训练被用户中断\")\n",
    "    logging.info(\"训练被用户中断\")\n",
    "except Exception as e:\n",
    "    print(f\"训练过程中发生错误: {e}\")\n",
    "    logging.error(f\"训练过程中发生错误: {e}\")\n",
    "    raise"
   ]
  },
  {
   "cell_type": "code",
   "execution_count": null,
   "id": "020bd7da",
   "metadata": {},
   "outputs": [
    {
     "name": "stdout",
     "output_type": "stream",
     "text": [
      "1\n",
      "\u001b[F\u001b[K"
     ]
    }
   ],
   "source": [
    "print(\"1\")\n",
    "print(\"\\033[F\\033[K\", end=\"\")  # \\033[F 上移一行，\\033[K 清除该行内容"
   ]
  },
  {
   "cell_type": "code",
   "execution_count": null,
   "id": "6456f7bd",
   "metadata": {},
   "outputs": [
    {
     "name": "stdout",
     "output_type": "stream",
     "text": [
      "训练未完成或发生错误，无法进行结果分析\n"
     ]
    }
   ],
   "source": [
    "# 训练结果分析和可视化\n",
    "if 'final_rewards' in locals():\n",
    "    print(\"=\"*60)\n",
    "    print(\"训练结果分析\")\n",
    "    print(\"=\"*60)\n",
    "    \n",
    "    # 绘制训练奖励曲线\n",
    "    plt.figure(figsize=(12, 4))\n",
    "    \n",
    "    plt.subplot(1, 2, 1)\n",
    "    plt.plot(final_rewards, alpha=0.6, label='Episode Reward')\n",
    "    if len(final_rewards) > 10:\n",
    "        # 计算移动平均\n",
    "        window = min(10, len(final_rewards) // 4)\n",
    "        moving_avg = np.convolve(final_rewards, np.ones(window)/window, mode='valid')\n",
    "        plt.plot(np.arange(window-1, len(final_rewards)), moving_avg, \n",
    "                'r-', linewidth=2, label=f'{window}-Episode Moving Average')\n",
    "    plt.xlabel('Episode')\n",
    "    plt.ylabel('Total Reward')\n",
    "    plt.title('训练奖励曲线（无时间感知GRU-TD3）')\n",
    "    plt.legend()\n",
    "    plt.grid(True, alpha=0.3)\n",
    "    \n",
    "    plt.subplot(1, 2, 2)\n",
    "    plt.plot(avg_rewards, 'g-', linewidth=2, label='Average Reward')\n",
    "    plt.xlabel('Episode')\n",
    "    plt.ylabel('Average Reward')\n",
    "    plt.title('平均奖励曲线')\n",
    "    plt.legend()\n",
    "    plt.grid(True, alpha=0.3)\n",
    "    \n",
    "    plt.tight_layout()\n",
    "    plt.savefig(os.path.join(os.path.dirname(save_path), 'training_curves.png'), dpi=300, bbox_inches='tight')\n",
    "    plt.show()\n",
    "    \n",
    "    # 打印统计信息\n",
    "    print(f\"总训练轮次: {len(final_rewards)}\")\n",
    "    print(f\"最终平均奖励: {np.mean(final_rewards[-10:]):.2f}\")\n",
    "    print(f\"最高单轮奖励: {np.max(final_rewards):.2f}\")\n",
    "    print(f\"最低单轮奖励: {np.min(final_rewards):.2f}\")\n",
    "    print(f\"奖励标准差: {np.std(final_rewards):.2f}\")\n",
    "    \n",
    "    logging.info(f\"训练统计 - 平均奖励: {np.mean(final_rewards[-10:]):.2f}, \"\n",
    "                f\"最高奖励: {np.max(final_rewards):.2f}, \"\n",
    "                f\"最低奖励: {np.min(final_rewards):.2f}\")\n",
    "\n",
    "else:\n",
    "    print(\"训练未完成或发生错误，无法进行结果分析\")"
   ]
  },
  {
   "cell_type": "code",
   "execution_count": null,
   "id": "6a96c282",
   "metadata": {},
   "outputs": [
    {
     "name": "stdout",
     "output_type": "stream",
     "text": [
      "============================================================\n",
      "模型性能测试\n",
      "============================================================\n",
      "运行控制仿真测试...\n"
     ]
    },
    {
     "name": "stderr",
     "output_type": "stream",
     "text": [
      "仿真进度: 10001it [00:08, 1177.17it/s]                          \n"
     ]
    },
    {
     "name": "stdout",
     "output_type": "stream",
     "text": [
      "运行无控制仿真对比...\n"
     ]
    },
    {
     "name": "stderr",
     "output_type": "stream",
     "text": [
      "仿真进度: 10001it [00:01, 9531.77it/s]                           \n"
     ]
    },
    {
     "ename": "TypeError",
     "evalue": "'Datasets' object is not subscriptable",
     "output_type": "error",
     "traceback": [
      "\u001b[1;31m---------------------------------------------------------------------------\u001b[0m",
      "\u001b[1;31mTypeError\u001b[0m                                 Traceback (most recent call last)",
      "Cell \u001b[1;32mIn[12], line 45\u001b[0m\n\u001b[0;32m     33\u001b[0m     control_energy \u001b[38;5;241m=\u001b[39m np\u001b[38;5;241m.\u001b[39msum(np\u001b[38;5;241m.\u001b[39marray(controlled_data[\u001b[38;5;124m'\u001b[39m\u001b[38;5;124mactions\u001b[39m\u001b[38;5;124m'\u001b[39m][\u001b[38;5;241m1\u001b[39m:])\u001b[38;5;241m*\u001b[39m\u001b[38;5;241m*\u001b[39m\u001b[38;5;241m2\u001b[39m) \u001b[38;5;241m*\u001b[39m env\u001b[38;5;241m.\u001b[39mTs\n\u001b[0;32m     35\u001b[0m     \u001b[38;5;28;01mreturn\u001b[39;00m {\n\u001b[0;32m     36\u001b[0m         \u001b[38;5;124m'\u001b[39m\u001b[38;5;124mrms_controlled\u001b[39m\u001b[38;5;124m'\u001b[39m: rms_controlled,\n\u001b[0;32m     37\u001b[0m         \u001b[38;5;124m'\u001b[39m\u001b[38;5;124mrms_uncontrolled\u001b[39m\u001b[38;5;124m'\u001b[39m: rms_uncontrolled,\n\u001b[1;32m   (...)\u001b[0m\n\u001b[0;32m     42\u001b[0m         \u001b[38;5;124m'\u001b[39m\u001b[38;5;124mcontrol_energy\u001b[39m\u001b[38;5;124m'\u001b[39m: control_energy\n\u001b[0;32m     43\u001b[0m     }\n\u001b[1;32m---> 45\u001b[0m metrics \u001b[38;5;241m=\u001b[39m \u001b[43mcalculate_performance_metrics\u001b[49m\u001b[43m(\u001b[49m\u001b[43mtest_data_with_control\u001b[49m\u001b[43m,\u001b[49m\u001b[43m \u001b[49m\u001b[43mtest_data_no_control\u001b[49m\u001b[43m)\u001b[49m\n\u001b[0;32m     47\u001b[0m \u001b[38;5;28mprint\u001b[39m(\u001b[38;5;124mf\u001b[39m\u001b[38;5;124m\"\u001b[39m\u001b[38;5;124m性能指标（无时间感知GRU-TD3）:\u001b[39m\u001b[38;5;124m\"\u001b[39m)\n\u001b[0;32m     48\u001b[0m \u001b[38;5;28mprint\u001b[39m(\u001b[38;5;124mf\u001b[39m\u001b[38;5;124m\"\u001b[39m\u001b[38;5;124m  RMS位移减少: \u001b[39m\u001b[38;5;132;01m{\u001b[39;00mmetrics[\u001b[38;5;124m'\u001b[39m\u001b[38;5;124mrms_reduction\u001b[39m\u001b[38;5;124m'\u001b[39m]\u001b[38;5;132;01m:\u001b[39;00m\u001b[38;5;124m.1f\u001b[39m\u001b[38;5;132;01m}\u001b[39;00m\u001b[38;5;124m%\u001b[39m\u001b[38;5;124m\"\u001b[39m)\n",
      "Cell \u001b[1;32mIn[12], line 17\u001b[0m, in \u001b[0;36mcalculate_performance_metrics\u001b[1;34m(controlled_data, uncontrolled_data)\u001b[0m\n\u001b[0;32m     15\u001b[0m \u001b[38;5;250m\u001b[39m\u001b[38;5;124;03m\"\"\"计算控制性能指标\"\"\"\u001b[39;00m\n\u001b[0;32m     16\u001b[0m \u001b[38;5;66;03m# 主结构位移（索引3）\u001b[39;00m\n\u001b[1;32m---> 17\u001b[0m x2_controlled \u001b[38;5;241m=\u001b[39m \u001b[43mcontrolled_data\u001b[49m\u001b[43m[\u001b[49m\u001b[38;5;124;43m'\u001b[39;49m\u001b[38;5;124;43mall_states\u001b[39;49m\u001b[38;5;124;43m'\u001b[39;49m\u001b[43m]\u001b[49m[:, \u001b[38;5;241m3\u001b[39m]\n\u001b[0;32m     18\u001b[0m x2_uncontrolled \u001b[38;5;241m=\u001b[39m uncontrolled_data[\u001b[38;5;124m'\u001b[39m\u001b[38;5;124mall_states\u001b[39m\u001b[38;5;124m'\u001b[39m][:, \u001b[38;5;241m3\u001b[39m]\n\u001b[0;32m     20\u001b[0m \u001b[38;5;66;03m# RMS值\u001b[39;00m\n",
      "\u001b[1;31mTypeError\u001b[0m: 'Datasets' object is not subscriptable"
     ]
    }
   ],
   "source": [
    "# 模型测试和性能评估\n",
    "print(\"=\"*60)\n",
    "print(\"模型性能测试\")\n",
    "print(\"=\"*60)\n",
    "\n",
    "# 测试训练好的模型\n",
    "print(\"运行控制仿真测试...\")\n",
    "test_data_with_control = env.run_simulation(controller=agent)\n",
    "\n",
    "print(\"运行无控制仿真对比...\")\n",
    "test_data_no_control = env.run_simulation(controller=None)\n",
    "\n",
    "# 计算性能指标\n",
    "def calculate_performance_metrics(controlled_data, uncontrolled_data):\n",
    "    \"\"\"计算控制性能指标\"\"\"\n",
    "    # 主结构位移（索引3）\n",
    "    x2_controlled = controlled_data['all_states'][:, 3]\n",
    "    x2_uncontrolled = uncontrolled_data['all_states'][:, 3]\n",
    "    \n",
    "    # RMS值\n",
    "    rms_controlled = np.sqrt(np.mean(x2_controlled**2))\n",
    "    rms_uncontrolled = np.sqrt(np.mean(x2_uncontrolled**2))\n",
    "    \n",
    "    # 最大值\n",
    "    max_controlled = np.max(np.abs(x2_controlled))\n",
    "    max_uncontrolled = np.max(np.abs(x2_uncontrolled))\n",
    "    \n",
    "    # 减振效果\n",
    "    rms_reduction = (rms_uncontrolled - rms_controlled) / rms_uncontrolled * 100\n",
    "    max_reduction = (max_uncontrolled - max_controlled) / max_uncontrolled * 100\n",
    "    \n",
    "    # 控制能耗\n",
    "    control_energy = np.sum(np.array(controlled_data['actions'][1:])**2) * env.Ts\n",
    "    \n",
    "    return {\n",
    "        'rms_controlled': rms_controlled,\n",
    "        'rms_uncontrolled': rms_uncontrolled,\n",
    "        'rms_reduction': rms_reduction,\n",
    "        'max_controlled': max_controlled,\n",
    "        'max_uncontrolled': max_uncontrolled,\n",
    "        'max_reduction': max_reduction,\n",
    "        'control_energy': control_energy\n",
    "    }\n",
    "\n",
    "metrics = calculate_performance_metrics(test_data_with_control, test_data_no_control)\n",
    "\n",
    "print(f\"性能指标（无时间感知GRU-TD3）:\")\n",
    "print(f\"  RMS位移减少: {metrics['rms_reduction']:.1f}%\")\n",
    "print(f\"  最大位移减少: {metrics['max_reduction']:.1f}%\") \n",
    "print(f\"  有控制RMS: {metrics['rms_controlled']:.4f} m\")\n",
    "print(f\"  无控制RMS: {metrics['rms_uncontrolled']:.4f} m\")\n",
    "print(f\"  有控制最大位移: {metrics['max_controlled']:.4f} m\")\n",
    "print(f\"  无控制最大位移: {metrics['max_uncontrolled']:.4f} m\")\n",
    "print(f\"  控制能耗: {metrics['control_energy']:.4f}\")\n",
    "\n",
    "logging.info(f\"性能测试结果 - RMS减少: {metrics['rms_reduction']:.1f}%, \"\n",
    "            f\"最大位移减少: {metrics['max_reduction']:.1f}%, \"\n",
    "            f\"控制能耗: {metrics['control_energy']:.4f}\")"
   ]
  },
  {
   "cell_type": "code",
   "execution_count": null,
   "id": "29288e01",
   "metadata": {},
   "outputs": [],
   "source": [
    "# 对比可视化分析\n",
    "print(\"=\"*60)\n",
    "print(\"生成对比图表\")\n",
    "print(\"=\"*60)\n",
    "\n",
    "# 设置时间轴\n",
    "time_test = np.arange(len(test_data_with_control['all_states'])) * env.Ts\n",
    "\n",
    "# 创建对比图\n",
    "fig, axes = plt.subplots(3, 1, figsize=(12, 10))\n",
    "\n",
    "# 位移对比\n",
    "axes[0].plot(time_test, test_data_with_control['all_states'][:, 3], 'b-', \n",
    "            label='有控制(GRU-TD3)', linewidth=1.5)\n",
    "axes[0].plot(time_test, test_data_no_control['all_states'][:, 3], 'r--', \n",
    "            label='无控制', linewidth=1.5, alpha=0.7)\n",
    "axes[0].set_ylabel('位移 (m)')\n",
    "axes[0].set_title('主结构位移响应对比')\n",
    "axes[0].legend()\n",
    "axes[0].grid(True, alpha=0.3)\n",
    "\n",
    "# 速度对比\n",
    "axes[1].plot(time_test, test_data_with_control['all_states'][:, 4], 'b-', \n",
    "            label='有控制(GRU-TD3)', linewidth=1.5)\n",
    "axes[1].plot(time_test, test_data_no_control['all_states'][:, 4], 'r--', \n",
    "            label='无控制', linewidth=1.5, alpha=0.7)\n",
    "axes[1].set_ylabel('速度 (m/s)')\n",
    "axes[1].set_title('主结构速度响应对比')\n",
    "axes[1].legend()\n",
    "axes[1].grid(True, alpha=0.3)\n",
    "\n",
    "# 控制力时程\n",
    "axes[2].plot(time_test[1:], test_data_with_control['actions'][1:], 'g-', \n",
    "            label='GRU-TD3控制力', linewidth=1.5)\n",
    "axes[2].set_ylabel('控制力 (N)')\n",
    "axes[2].set_xlabel('时间 (s)')\n",
    "axes[2].set_title('控制力时程')\n",
    "axes[2].legend()\n",
    "axes[2].grid(True, alpha=0.3)\n",
    "\n",
    "plt.tight_layout()\n",
    "plt.savefig(f'{plot_dir}/performance_comparison_gru_td3.png', dpi=300, bbox_inches='tight')\n",
    "plt.show()\n",
    "\n",
    "# 频域分析\n",
    "from scipy import signal\n",
    "\n",
    "# 计算功率谱密度\n",
    "freq, psd_controlled = signal.welch(test_data_with_control['all_states'][:, 3], \n",
    "                                   fs=1/env.Ts, nperseg=1024)\n",
    "freq, psd_uncontrolled = signal.welch(test_data_no_control['all_states'][:, 3], \n",
    "                                     fs=1/env.Ts, nperseg=1024)\n",
    "\n",
    "plt.figure(figsize=(10, 6))\n",
    "plt.semilogy(freq, psd_controlled, 'b-', label='有控制(GRU-TD3)', linewidth=2)\n",
    "plt.semilogy(freq, psd_uncontrolled, 'r--', label='无控制', linewidth=2, alpha=0.7)\n",
    "plt.xlabel('频率 (Hz)')\n",
    "plt.ylabel('功率谱密度 (m²/Hz)')\n",
    "plt.title('位移响应功率谱密度对比')\n",
    "plt.legend()\n",
    "plt.grid(True, alpha=0.3)\n",
    "plt.xlim(0, 5)  # 关注0-5Hz范围\n",
    "plt.savefig(f'{plot_dir}/psd_comparison_gru_td3.png', dpi=300, bbox_inches='tight')\n",
    "plt.show()\n",
    "\n",
    "print(\"所有分析图表已保存完成！\")\n",
    "print(f\"图表保存路径: {plot_dir}\")\n",
    "logging.info(\"GRU-TD3训练和测试完成，所有结果已保存\")"
   ]
  }
 ],
 "metadata": {
  "kernelspec": {
   "display_name": "DRL_env",
   "language": "python",
   "name": "python3"
  },
  "language_info": {
   "codemirror_mode": {
    "name": "ipython",
    "version": 3
   },
   "file_extension": ".py",
   "mimetype": "text/x-python",
   "name": "python",
   "nbconvert_exporter": "python",
   "pygments_lexer": "ipython3",
   "version": "3.8.20"
  }
 },
 "nbformat": 4,
 "nbformat_minor": 5
}
